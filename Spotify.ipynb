{
 "cells": [
  {
   "cell_type": "code",
   "execution_count": 69,
   "metadata": {},
   "outputs": [],
   "source": [
    "import requests\n",
    "import pandas as pd\n",
    "import base64"
   ]
  },
  {
   "cell_type": "markdown",
   "metadata": {},
   "source": [
    "Define utility functions to fetch data from Spotify Web API"
   ]
  },
  {
   "cell_type": "code",
   "execution_count": 70,
   "metadata": {},
   "outputs": [],
   "source": [
    "def get_token(client_id, client_secret):\n",
    "    '''\n",
    "    Function that receives client_id and client_secret from the Spotify app\n",
    "    and returns a valid token for using with the API.\n",
    "    '''\n",
    "    encoded = base64.b64encode(bytes(client_id+':'+client_secret, 'utf-8'))\n",
    "    params = {'grant_type':'client_credentials'}\n",
    "    header = {'Authorization': 'Basic ' + str(encoded, 'utf-8')}\n",
    "    r = requests.post('https://accounts.spotify.com/api/token', headers=header, data=params)\n",
    "    if r.status_code != 200:\n",
    "        print('Error during the request.', r.json())\n",
    "        return None\n",
    "    print('Token valid for {} seconds.'.format(r.json()['expires_in']))\n",
    "    return r.json()['access_token']\n",
    "\n",
    "def search_artist_id(string, token):\n",
    "    '''\n",
    "    Receives a search string and a valid token and returns the most popular artist matching that string,\n",
    "    including artist ID. If the search has 0 results, the return value is (string, None) .\n",
    "    '''\n",
    "    ep_search = 'https://api.spotify.com/v1/search'\n",
    "    header = {'Authorization': f'Bearer {token}'}\n",
    "    search_params = {'q': string, 'type': 'artist'} #, 'market': 'AR'}\n",
    "    r = requests.get(ep_search, headers=header, params=search_params)\n",
    "\n",
    "    if r.status_code == 200:\n",
    "        if len(r.json()['artists']['items']) > 0:\n",
    "            data = tuple(pd.DataFrame(r.json()['artists']['items']).sort_values(by='popularity',ascending=False).loc[0,['name', 'id']].values)\n",
    "            if data[0].lower() != string.lower():\n",
    "                print(f'WARNING: artist found differs from search string. Searched for {string}, found {data[0]}')\n",
    "            return (string, data[1])\n",
    "        else:\n",
    "            print('Artist not found:', string)\n",
    "            return (string, None)\n",
    "\n",
    "    else:\n",
    "        print('Error during the request.')\n",
    "        print(r.status_code)\n",
    "        print(r.text)\n",
    "        \n",
    "def get_artist_info(artist_id, token):\n",
    "    '''\n",
    "    Receives artist_id and a valid token and returns amount of followers, genres and popularity of the artist.\n",
    "    '''\n",
    "    header = {'Authorization': f'Bearer {token}'}\n",
    "    r = requests.get(f'https://api.spotify.com/v1/artists/{artist_id}', headers=header)\n",
    "    if r.status_code == 200:\n",
    "        return {'followers': r.json()['followers']['total'], \n",
    "                'genres': r.json()['genres'], \n",
    "                'popularity': r.json()['popularity']}\n",
    "    else:\n",
    "        print('Error during the request.')\n",
    "        print(r.status_code)\n",
    "        print(r.text)\n",
    "\n",
    "def get_artist_albums(artist_id, token):\n",
    "    '''\n",
    "    Receives artist_id and a valid token and returns a list of dictionary of albums,\n",
    "    where keys correspond to release dates and values to the names of the albums.\n",
    "    '''\n",
    "    header = {'Authorization': f'Bearer {token}'}\n",
    "    r = requests.get(f'https://api.spotify.com/v1/artists/{artist_id}/albums?limit=50&include_groups=album,single,appears_on', headers=header)\n",
    "    if r.status_code == 200:\n",
    "        albums = dict()\n",
    "        for item in r.json()['items']:\n",
    "            albums[item['release_date']] = item['name']\n",
    "        \n",
    "        next_ = r.json()['next']\n",
    "        while next_ != None:\n",
    "            r = requests.get(next_, headers=header)\n",
    "            if r.status_code == 200:\n",
    "                for item in r.json()['items']:\n",
    "                    albums[item['release_date']] = item['name']\n",
    "                next_ = r.json()['next']\n",
    "        \n",
    "        return albums\n",
    "    \n",
    "    else:\n",
    "        print('Error during the request.')\n",
    "        print(r.status_code)\n",
    "        print(r.text)\n",
    "        \n",
    "def get_related_artists(artist_id, token):\n",
    "    '''\n",
    "    Receives artist_id and a valid token and returns a list of related artists and a list of related genres,\n",
    "    with possible repeated values.\n",
    "    '''\n",
    "    header = {'Authorization': f'Bearer {token}'}\n",
    "    r = requests.get(f'https://api.spotify.com/v1/artists/{artist_id}/related-artists', headers=header)\n",
    "    if r.status_code == 200:\n",
    "        genres = []\n",
    "        for genre_list in [artist['genres'] for artist in r.json()['artists']]:\n",
    "            genres = genres+ genre_list\n",
    "        return {'related_artists': [artist['name'] for artist in r.json()['artists']], \n",
    "                'related_genres':genres}\n",
    "    else:\n",
    "        print('Error during the request.')\n",
    "        print(r.status_code)\n",
    "        print(r.text)"
   ]
  },
  {
   "cell_type": "markdown",
   "metadata": {},
   "source": [
    "Read the credentials from 'credentials.txt'"
   ]
  },
  {
   "cell_type": "code",
   "execution_count": 71,
   "metadata": {},
   "outputs": [
    {
     "name": "stdout",
     "output_type": "stream",
     "text": [
      "Found Client ID\n",
      "Found Client secret\n"
     ]
    }
   ],
   "source": [
    "client_id = None\n",
    "client_secret = None\n",
    "\n",
    "with open('credentials.txt', 'r') as file:\n",
    "    for line in file:\n",
    "        if 'client_id' in line:\n",
    "            start = line.find('\\'')+1\n",
    "            end = line[start:].find('\\'')\n",
    "            client_id = line[start:start+end]\n",
    "            print('Found Client ID')#, client_id)\n",
    "        elif 'client_secret' in line:\n",
    "            start = line.find('\\'')+1\n",
    "            end = line[start:].find('\\'')\n",
    "            client_secret = line[start:start+end]\n",
    "            print('Found Client secret')#, client_secret)\n",
    "        if client_id != None and client_secret != None:\n",
    "            break\n",
    "    file.close()\n",
    "    \n",
    "    if client_id == None:\n",
    "        print('Client ID not found in credentials.txt')\n",
    "    if client_secret == None:\n",
    "        print('Client secret not found in credentials.txt')"
   ]
  },
  {
   "cell_type": "markdown",
   "metadata": {},
   "source": [
    "Get a valid token based on the credentials read"
   ]
  },
  {
   "cell_type": "code",
   "execution_count": 72,
   "metadata": {},
   "outputs": [
    {
     "name": "stdout",
     "output_type": "stream",
     "text": [
      "Token valid for 3600 seconds.\n"
     ]
    }
   ],
   "source": [
    "token = get_token(client_id, client_secret)"
   ]
  },
  {
   "cell_type": "markdown",
   "metadata": {},
   "source": [
    "Lollapalooza lineup from https://www.lollapaloozaar.com/news/lollapalooza-argentina-confirma-su-lineup-por-dia/"
   ]
  },
  {
   "cell_type": "code",
   "execution_count": 73,
   "metadata": {},
   "outputs": [],
   "source": [
    "lineup_day_1 = 'Travis Scott – Martin Garrix – Los Fabulosos Cadillacs – Brockhampton – DUKI – Madeon – Rita Ora – A Day to Remember – King Princess – LP – WOS – Denzel Curry – Yungblud – Nathy Peluso – J mena – AJR – Louta – Two Feet – Bizarrap – Fuego – La Delio Valdez – Dani – Kaydy Cain – Maye – Boombox Cartel – Cimafunk – Ms Nina – Feli Colina – Axel Fiks – Lucia Tacchetti – DJ Sky – Alejo y Valentin'\n",
    "lineup_day_2 = 'The Strokes – Gwen Stefani – Armin Van Buuren – Vampire Weekend – Ratones Paranoicos – ILLENIUM – Kacey Musgraves – Litto Nebbia – Charli XCX – Jaden Smith – R3HAB – Hayley Kiyoko – El Mató a un Policía Motorizado – Rels B – Emmanuel Horvilleur – Kali Uchis – Paloma Mami – Fabiana Cantilo – Trueno – Amaia – Wallows – Yung Beef – Zoe Gotusso – Girl Ultra – Las Ligas Menores – Ainda – Ghetto Kids – D3FAI – Paco Leiva – LIMON – Louly'\n",
    "lineup_day_3 = 'Guns N’ Roses – Lana del Rey – Cage the Elephant – James Blake – Alan Walker – Rezz – The Lumineers – Rex Orange County – MIKA – Perry Farrell’s Kind Heaven Orchestra – Airbag – Lauv – YSY A – Chris Lake – Pabllo Vittar – San Holo – Emilia – Idles – Masego – The Hu – Elsa y Elmar – Natalie Perez – Goldfish – Florian – Miranda Johansen – DABOW – El Buen Salvaje – Metro Live – Reydel'"
   ]
  },
  {
   "cell_type": "markdown",
   "metadata": {},
   "source": [
    "Convert the string into a list of artists"
   ]
  },
  {
   "cell_type": "code",
   "execution_count": 74,
   "metadata": {},
   "outputs": [],
   "source": [
    "str_to_list = lambda x: [band.strip() for band in x.split('–')]"
   ]
  },
  {
   "cell_type": "code",
   "execution_count": 75,
   "metadata": {},
   "outputs": [],
   "source": [
    "lineup_day_1 = str_to_list(lineup_day_1)\n",
    "lineup_day_2 = str_to_list(lineup_day_2)\n",
    "lineup_day_3 = str_to_list(lineup_day_3)"
   ]
  },
  {
   "cell_type": "markdown",
   "metadata": {},
   "source": [
    "Find artists ids on Spotify"
   ]
  },
  {
   "cell_type": "code",
   "execution_count": 76,
   "metadata": {},
   "outputs": [
    {
     "name": "stdout",
     "output_type": "stream",
     "text": [
      "WARNING: artist found differs from search string. Searched for Dani, found Daniel Caesar\n",
      "WARNING: artist found differs from search string. Searched for Maye, found John Mayer\n",
      "WARNING: artist found differs from search string. Searched for DJ Sky, found DJ Skyxo\n",
      "WARNING: artist found differs from search string. Searched for Jaden Smith, found Jaden\n",
      "WARNING: artist found differs from search string. Searched for Amaia, found Amaia Montero\n",
      "WARNING: artist found differs from search string. Searched for LIMON, found La Arrolladora Banda El Limón De Rene Camacho\n",
      "WARNING: artist found differs from search string. Searched for Guns N’ Roses, found Guns N' Roses\n",
      "Artist not found: Perry Farrell’s Kind Heaven Orchestra\n",
      "WARNING: artist found differs from search string. Searched for Florian, found Florian Picasso\n",
      "WARNING: artist found differs from search string. Searched for Metro Live, found Liverpool Metropolitan Cathedral Choir\n"
     ]
    }
   ],
   "source": [
    "artists_ids = pd.DataFrame([search_artist_id(artist, token) for artist in lineup_day_1+lineup_day_2+lineup_day_3], \n",
    "                           columns=['artist', 'artist_id']).set_index('artist')"
   ]
  },
  {
   "cell_type": "markdown",
   "metadata": {},
   "source": [
    "Manually correct artist names and IDs"
   ]
  },
  {
   "cell_type": "code",
   "execution_count": 77,
   "metadata": {},
   "outputs": [
    {
     "data": {
      "text/html": [
       "<div>\n",
       "<style scoped>\n",
       "    .dataframe tbody tr th:only-of-type {\n",
       "        vertical-align: middle;\n",
       "    }\n",
       "\n",
       "    .dataframe tbody tr th {\n",
       "        vertical-align: top;\n",
       "    }\n",
       "\n",
       "    .dataframe thead th {\n",
       "        text-align: right;\n",
       "    }\n",
       "</style>\n",
       "<table border=\"1\" class=\"dataframe\">\n",
       "  <thead>\n",
       "    <tr style=\"text-align: right;\">\n",
       "      <th></th>\n",
       "      <th>artist_id</th>\n",
       "    </tr>\n",
       "    <tr>\n",
       "      <th>artist</th>\n",
       "      <th></th>\n",
       "    </tr>\n",
       "  </thead>\n",
       "  <tbody>\n",
       "    <tr>\n",
       "      <td>Travis Scott</td>\n",
       "      <td>0Y5tJX1MQlPlqiwlOH1tJY</td>\n",
       "    </tr>\n",
       "    <tr>\n",
       "      <td>Martin Garrix</td>\n",
       "      <td>60d24wfXkVzDSfLS6hyCjZ</td>\n",
       "    </tr>\n",
       "    <tr>\n",
       "      <td>Los Fabulosos Cadillacs</td>\n",
       "      <td>2FS22haX3FYbyOsUAkuYqZ</td>\n",
       "    </tr>\n",
       "    <tr>\n",
       "      <td>Brockhampton</td>\n",
       "      <td>1Bl6wpkWCQ4KVgnASpvzzA</td>\n",
       "    </tr>\n",
       "    <tr>\n",
       "      <td>DUKI</td>\n",
       "      <td>1bAftSH8umNcGZ0uyV7LMg</td>\n",
       "    </tr>\n",
       "  </tbody>\n",
       "</table>\n",
       "</div>"
      ],
      "text/plain": [
       "                                      artist_id\n",
       "artist                                         \n",
       "Travis Scott             0Y5tJX1MQlPlqiwlOH1tJY\n",
       "Martin Garrix            60d24wfXkVzDSfLS6hyCjZ\n",
       "Los Fabulosos Cadillacs  2FS22haX3FYbyOsUAkuYqZ\n",
       "Brockhampton             1Bl6wpkWCQ4KVgnASpvzzA\n",
       "DUKI                     1bAftSH8umNcGZ0uyV7LMg"
      ]
     },
     "execution_count": 77,
     "metadata": {},
     "output_type": "execute_result"
    }
   ],
   "source": [
    "artists_ids.head()"
   ]
  },
  {
   "cell_type": "code",
   "execution_count": 78,
   "metadata": {},
   "outputs": [],
   "source": [
    "artists_ids.loc['Dani', 'artist_id'] = '6cC67GpmPCjQjOYLpmOGhN'\n",
    "artists_ids.loc['Maye', 'artist_id'] = '5ti5FPHgtaSf15KcUisZMt'\n",
    "artists_ids.loc['DJ Sky', 'artist_id'] = '2I0SNwGhPsYEhKzxUcjab3'\n",
    "artists_ids.loc['Amaia', 'artist_id'] = '1WLEfsQjvgtFSGkrHonzFX'\n",
    "artists_ids.loc['LIMON', 'artist_id'] = '3bOCNWtgHz0rLE1j5bfR72'\n",
    "artists_ids.loc['Florian', 'artist_id'] = '6C3bLjpIfVoapHjMfpYAy2'\n",
    "artists_ids.loc['Fuego', 'artist_id'] = '7wU2WGCJ8HxkekHHE2QLul'"
   ]
  },
  {
   "cell_type": "markdown",
   "metadata": {},
   "source": [
    "Manually search for a missing artist's id"
   ]
  },
  {
   "cell_type": "code",
   "execution_count": 79,
   "metadata": {},
   "outputs": [
    {
     "data": {
      "text/plain": [
       "('perry farrell', '2DS5RPK5A2GQTucYlgsQdE')"
      ]
     },
     "execution_count": 79,
     "metadata": {},
     "output_type": "execute_result"
    }
   ],
   "source": [
    "search_artist_id('perry farrell', token)"
   ]
  },
  {
   "cell_type": "code",
   "execution_count": 80,
   "metadata": {},
   "outputs": [],
   "source": [
    "artists_ids.loc['Perry Farrell’s Kind Heaven Orchestra', 'artist_id'] = search_artist_id('perry farrell', token)[1]"
   ]
  },
  {
   "cell_type": "markdown",
   "metadata": {},
   "source": [
    "Remove \"Metro Live\" since it's not an artist."
   ]
  },
  {
   "cell_type": "code",
   "execution_count": 81,
   "metadata": {},
   "outputs": [],
   "source": [
    "artists_ids.drop('Metro Live', inplace=True)"
   ]
  },
  {
   "cell_type": "markdown",
   "metadata": {},
   "source": [
    "## Building the artists DataFrame"
   ]
  },
  {
   "cell_type": "code",
   "execution_count": 82,
   "metadata": {},
   "outputs": [
    {
     "data": {
      "text/html": [
       "<div>\n",
       "<style scoped>\n",
       "    .dataframe tbody tr th:only-of-type {\n",
       "        vertical-align: middle;\n",
       "    }\n",
       "\n",
       "    .dataframe tbody tr th {\n",
       "        vertical-align: top;\n",
       "    }\n",
       "\n",
       "    .dataframe thead th {\n",
       "        text-align: right;\n",
       "    }\n",
       "</style>\n",
       "<table border=\"1\" class=\"dataframe\">\n",
       "  <thead>\n",
       "    <tr style=\"text-align: right;\">\n",
       "      <th></th>\n",
       "      <th>artist_id</th>\n",
       "    </tr>\n",
       "    <tr>\n",
       "      <th>artist</th>\n",
       "      <th></th>\n",
       "    </tr>\n",
       "  </thead>\n",
       "  <tbody>\n",
       "    <tr>\n",
       "      <td>Travis Scott</td>\n",
       "      <td>0Y5tJX1MQlPlqiwlOH1tJY</td>\n",
       "    </tr>\n",
       "    <tr>\n",
       "      <td>Martin Garrix</td>\n",
       "      <td>60d24wfXkVzDSfLS6hyCjZ</td>\n",
       "    </tr>\n",
       "    <tr>\n",
       "      <td>Los Fabulosos Cadillacs</td>\n",
       "      <td>2FS22haX3FYbyOsUAkuYqZ</td>\n",
       "    </tr>\n",
       "    <tr>\n",
       "      <td>Brockhampton</td>\n",
       "      <td>1Bl6wpkWCQ4KVgnASpvzzA</td>\n",
       "    </tr>\n",
       "    <tr>\n",
       "      <td>DUKI</td>\n",
       "      <td>1bAftSH8umNcGZ0uyV7LMg</td>\n",
       "    </tr>\n",
       "  </tbody>\n",
       "</table>\n",
       "</div>"
      ],
      "text/plain": [
       "                                      artist_id\n",
       "artist                                         \n",
       "Travis Scott             0Y5tJX1MQlPlqiwlOH1tJY\n",
       "Martin Garrix            60d24wfXkVzDSfLS6hyCjZ\n",
       "Los Fabulosos Cadillacs  2FS22haX3FYbyOsUAkuYqZ\n",
       "Brockhampton             1Bl6wpkWCQ4KVgnASpvzzA\n",
       "DUKI                     1bAftSH8umNcGZ0uyV7LMg"
      ]
     },
     "execution_count": 82,
     "metadata": {},
     "output_type": "execute_result"
    }
   ],
   "source": [
    "artists_ids.head()"
   ]
  },
  {
   "cell_type": "code",
   "execution_count": 83,
   "metadata": {},
   "outputs": [],
   "source": [
    "df_artists = artists_ids.copy()"
   ]
  },
  {
   "cell_type": "markdown",
   "metadata": {},
   "source": [
    "Get info for each artist and add it to the df"
   ]
  },
  {
   "cell_type": "code",
   "execution_count": 84,
   "metadata": {},
   "outputs": [],
   "source": [
    "df_artists[['followers', 'genres', 'popularity']] = df_artists.apply(lambda x: get_artist_info(x['artist_id'], token=token),\n",
    "                                                                     axis=1, result_type='expand')"
   ]
  },
  {
   "cell_type": "code",
   "execution_count": 85,
   "metadata": {},
   "outputs": [],
   "source": [
    "df_artists['albums'] = df_artists.apply(lambda x: get_artist_albums(x['artist_id'], token=token), axis=1)"
   ]
  },
  {
   "cell_type": "code",
   "execution_count": 86,
   "metadata": {},
   "outputs": [],
   "source": [
    "df_artists[['related_artists', 'related_genres']] = df_artists.apply(lambda x: get_related_artists(x['artist_id'], token=token),\n",
    "                                                                     axis=1, result_type='expand')"
   ]
  },
  {
   "cell_type": "markdown",
   "metadata": {},
   "source": [
    "Indicate on which day each artist is performing"
   ]
  },
  {
   "cell_type": "code",
   "execution_count": 87,
   "metadata": {},
   "outputs": [],
   "source": [
    "df_artists['day'] = None\n",
    "df_artists.loc[lineup_day_1[0]:lineup_day_1[-1], 'day'] = 1\n",
    "df_artists.loc[lineup_day_2[0]:lineup_day_2[-1], 'day'] = 2\n",
    "df_artists['day'].fillna(3, inplace=True)"
   ]
  },
  {
   "cell_type": "code",
   "execution_count": 88,
   "metadata": {},
   "outputs": [
    {
     "data": {
      "text/html": [
       "<div>\n",
       "<style scoped>\n",
       "    .dataframe tbody tr th:only-of-type {\n",
       "        vertical-align: middle;\n",
       "    }\n",
       "\n",
       "    .dataframe tbody tr th {\n",
       "        vertical-align: top;\n",
       "    }\n",
       "\n",
       "    .dataframe thead th {\n",
       "        text-align: right;\n",
       "    }\n",
       "</style>\n",
       "<table border=\"1\" class=\"dataframe\">\n",
       "  <thead>\n",
       "    <tr style=\"text-align: right;\">\n",
       "      <th></th>\n",
       "      <th>artist_id</th>\n",
       "      <th>followers</th>\n",
       "      <th>genres</th>\n",
       "      <th>popularity</th>\n",
       "      <th>albums</th>\n",
       "      <th>related_artists</th>\n",
       "      <th>related_genres</th>\n",
       "      <th>day</th>\n",
       "    </tr>\n",
       "    <tr>\n",
       "      <th>artist</th>\n",
       "      <th></th>\n",
       "      <th></th>\n",
       "      <th></th>\n",
       "      <th></th>\n",
       "      <th></th>\n",
       "      <th></th>\n",
       "      <th></th>\n",
       "      <th></th>\n",
       "    </tr>\n",
       "  </thead>\n",
       "  <tbody>\n",
       "    <tr>\n",
       "      <td>Travis Scott</td>\n",
       "      <td>0Y5tJX1MQlPlqiwlOH1tJY</td>\n",
       "      <td>7697676</td>\n",
       "      <td>[rap]</td>\n",
       "      <td>98</td>\n",
       "      <td>{'2019-12-27': 'JACKBOYS', '2018-11-06': 'NOT ...</td>\n",
       "      <td>[A$AP Rocky, Chief Keef, KIDS SEE GHOSTS, Push...</td>\n",
       "      <td>[east coast hip hop, hip hop, pop rap, rap, tr...</td>\n",
       "      <td>1</td>\n",
       "    </tr>\n",
       "    <tr>\n",
       "      <td>Martin Garrix</td>\n",
       "      <td>60d24wfXkVzDSfLS6hyCjZ</td>\n",
       "      <td>12566165</td>\n",
       "      <td>[big room, edm, pop, progressive house, tropic...</td>\n",
       "      <td>88</td>\n",
       "      <td>{'2019-07-10': 'The Martin Garrix Experience',...</td>\n",
       "      <td>[AREA21, Brooks, Deorro, Lucas &amp; Steve, KAAZE,...</td>\n",
       "      <td>[big room, edm, big room, deep big room, edm, ...</td>\n",
       "      <td>1</td>\n",
       "    </tr>\n",
       "    <tr>\n",
       "      <td>Los Fabulosos Cadillacs</td>\n",
       "      <td>2FS22haX3FYbyOsUAkuYqZ</td>\n",
       "      <td>1671946</td>\n",
       "      <td>[argentine rock, latin alternative, latin rock...</td>\n",
       "      <td>73</td>\n",
       "      <td>{'2017-10-20': 'En Vivo en The Theater at Madi...</td>\n",
       "      <td>[Los Pericos, Vicentico, Aterciopelados, Los A...</td>\n",
       "      <td>[argentine reggae, argentine rock, latin alter...</td>\n",
       "      <td>1</td>\n",
       "    </tr>\n",
       "    <tr>\n",
       "      <td>Brockhampton</td>\n",
       "      <td>1Bl6wpkWCQ4KVgnASpvzzA</td>\n",
       "      <td>1183998</td>\n",
       "      <td>[boy band, hip hop, pop, rap]</td>\n",
       "      <td>85</td>\n",
       "      <td>{'2019-08-23': 'GINGER', '2018-09-21': 'irides...</td>\n",
       "      <td>[Kevin Abstract, Matt Champion, JPEGMAFIA, Ame...</td>\n",
       "      <td>[alternative r&amp;b, hip hop, lgbtq+ hip hop, rap...</td>\n",
       "      <td>1</td>\n",
       "    </tr>\n",
       "    <tr>\n",
       "      <td>DUKI</td>\n",
       "      <td>1bAftSH8umNcGZ0uyV7LMg</td>\n",
       "      <td>2712196</td>\n",
       "      <td>[argentine hip hop, trap argentino]</td>\n",
       "      <td>84</td>\n",
       "      <td>{'2019-11-01': 'Súper Sangre Joven', '2020-01-...</td>\n",
       "      <td>[Uriel Natero, Bhavi, KHEA, Lit Killah, Seven ...</td>\n",
       "      <td>[argentine hip hop, trap argentino, argentine ...</td>\n",
       "      <td>1</td>\n",
       "    </tr>\n",
       "  </tbody>\n",
       "</table>\n",
       "</div>"
      ],
      "text/plain": [
       "                                      artist_id  followers  \\\n",
       "artist                                                       \n",
       "Travis Scott             0Y5tJX1MQlPlqiwlOH1tJY    7697676   \n",
       "Martin Garrix            60d24wfXkVzDSfLS6hyCjZ   12566165   \n",
       "Los Fabulosos Cadillacs  2FS22haX3FYbyOsUAkuYqZ    1671946   \n",
       "Brockhampton             1Bl6wpkWCQ4KVgnASpvzzA    1183998   \n",
       "DUKI                     1bAftSH8umNcGZ0uyV7LMg    2712196   \n",
       "\n",
       "                                                                    genres  \\\n",
       "artist                                                                       \n",
       "Travis Scott                                                         [rap]   \n",
       "Martin Garrix            [big room, edm, pop, progressive house, tropic...   \n",
       "Los Fabulosos Cadillacs  [argentine rock, latin alternative, latin rock...   \n",
       "Brockhampton                                 [boy band, hip hop, pop, rap]   \n",
       "DUKI                                   [argentine hip hop, trap argentino]   \n",
       "\n",
       "                         popularity  \\\n",
       "artist                                \n",
       "Travis Scott                     98   \n",
       "Martin Garrix                    88   \n",
       "Los Fabulosos Cadillacs          73   \n",
       "Brockhampton                     85   \n",
       "DUKI                             84   \n",
       "\n",
       "                                                                    albums  \\\n",
       "artist                                                                       \n",
       "Travis Scott             {'2019-12-27': 'JACKBOYS', '2018-11-06': 'NOT ...   \n",
       "Martin Garrix            {'2019-07-10': 'The Martin Garrix Experience',...   \n",
       "Los Fabulosos Cadillacs  {'2017-10-20': 'En Vivo en The Theater at Madi...   \n",
       "Brockhampton             {'2019-08-23': 'GINGER', '2018-09-21': 'irides...   \n",
       "DUKI                     {'2019-11-01': 'Súper Sangre Joven', '2020-01-...   \n",
       "\n",
       "                                                           related_artists  \\\n",
       "artist                                                                       \n",
       "Travis Scott             [A$AP Rocky, Chief Keef, KIDS SEE GHOSTS, Push...   \n",
       "Martin Garrix            [AREA21, Brooks, Deorro, Lucas & Steve, KAAZE,...   \n",
       "Los Fabulosos Cadillacs  [Los Pericos, Vicentico, Aterciopelados, Los A...   \n",
       "Brockhampton             [Kevin Abstract, Matt Champion, JPEGMAFIA, Ame...   \n",
       "DUKI                     [Uriel Natero, Bhavi, KHEA, Lit Killah, Seven ...   \n",
       "\n",
       "                                                            related_genres  \\\n",
       "artist                                                                       \n",
       "Travis Scott             [east coast hip hop, hip hop, pop rap, rap, tr...   \n",
       "Martin Garrix            [big room, edm, big room, deep big room, edm, ...   \n",
       "Los Fabulosos Cadillacs  [argentine reggae, argentine rock, latin alter...   \n",
       "Brockhampton             [alternative r&b, hip hop, lgbtq+ hip hop, rap...   \n",
       "DUKI                     [argentine hip hop, trap argentino, argentine ...   \n",
       "\n",
       "                         day  \n",
       "artist                        \n",
       "Travis Scott               1  \n",
       "Martin Garrix              1  \n",
       "Los Fabulosos Cadillacs    1  \n",
       "Brockhampton               1  \n",
       "DUKI                       1  "
      ]
     },
     "execution_count": 88,
     "metadata": {},
     "output_type": "execute_result"
    }
   ],
   "source": [
    "df_artists.head()"
   ]
  },
  {
   "cell_type": "markdown",
   "metadata": {},
   "source": [
    "Export to .csv"
   ]
  },
  {
   "cell_type": "code",
   "execution_count": 89,
   "metadata": {},
   "outputs": [],
   "source": [
    "df_artists.to_csv('artists.csv', index_label='artist')"
   ]
  },
  {
   "cell_type": "code",
   "execution_count": 90,
   "metadata": {},
   "outputs": [
    {
     "name": "stdout",
     "output_type": "stream",
     "text": [
      "<class 'pandas.core.frame.DataFrame'>\n",
      "Index: 91 entries, Travis Scott to Reydel\n",
      "Data columns (total 8 columns):\n",
      "artist_id          91 non-null object\n",
      "followers          91 non-null int64\n",
      "genres             91 non-null object\n",
      "popularity         91 non-null int64\n",
      "albums             91 non-null object\n",
      "related_artists    91 non-null object\n",
      "related_genres     91 non-null object\n",
      "day                91 non-null int64\n",
      "dtypes: int64(3), object(5)\n",
      "memory usage: 8.9+ KB\n"
     ]
    }
   ],
   "source": [
    "df_artists.info()"
   ]
  },
  {
   "cell_type": "markdown",
   "metadata": {},
   "source": [
    "---"
   ]
  }
 ],
 "metadata": {
  "kernelspec": {
   "display_name": "ds-dh",
   "language": "python",
   "name": "ds-dh"
  },
  "language_info": {
   "codemirror_mode": {
    "name": "ipython",
    "version": 3
   },
   "file_extension": ".py",
   "mimetype": "text/x-python",
   "name": "python",
   "nbconvert_exporter": "python",
   "pygments_lexer": "ipython3",
   "version": "3.6.8"
  }
 },
 "nbformat": 4,
 "nbformat_minor": 4
}
