{
 "cells": [
  {
   "cell_type": "code",
   "execution_count": null,
   "metadata": {},
   "outputs": [],
   "source": [
    "import requests\n",
    "import pandas as pd\n",
    "import base64"
   ]
  },
  {
   "cell_type": "markdown",
   "metadata": {},
   "source": [
    "Define utility functions to fetch data from Spotify Web API"
   ]
  },
  {
   "cell_type": "code",
   "execution_count": null,
   "metadata": {},
   "outputs": [],
   "source": [
    "def get_token(client_id, client_secret):\n",
    "    '''\n",
    "    Function that receives client_id and client_secret from the Spotify app\n",
    "    and returns a valid token for using with the API.\n",
    "    '''\n",
    "    encoded = base64.b64encode(bytes(client_id+':'+client_secret, 'utf-8'))\n",
    "    params = {'grant_type':'client_credentials'}\n",
    "    header = {'Authorization': 'Basic ' + str(encoded, 'utf-8')}\n",
    "    r = requests.post('https://accounts.spotify.com/api/token', headers=header, data=params)\n",
    "    if r.status_code != 200:\n",
    "        print('Error during the request.', r.json())\n",
    "        return None\n",
    "    print('Token valid for {} seconds.'.format(r.json()['expires_in']))\n",
    "    return r.json()['access_token']\n",
    "\n",
    "def search_artist_id(string, token):\n",
    "    '''\n",
    "    Receives a search string and a valid token and returns the most popular artist matching that string,\n",
    "    including artist ID. If the search has 0 results, the return value is (string, None) .\n",
    "    '''\n",
    "    ep_search = 'https://api.spotify.com/v1/search'\n",
    "    header = {'Authorization': f'Bearer {token}'}\n",
    "    search_params = {'q': string, 'type': 'artist'} #, 'market': 'AR'}\n",
    "    r = requests.get(ep_search, headers=header, params=search_params)\n",
    "\n",
    "    if r.status_code == 200:\n",
    "        if len(r.json()['artists']['items']) > 0:\n",
    "            return tuple(pd.DataFrame(r.json()['artists']['items']).sort_values(by='popularity',ascending=False).loc[0,['name', 'id']].values)\n",
    "        else:\n",
    "            print('Artist not found:', string)\n",
    "            return (string, None)\n",
    "\n",
    "    else:\n",
    "        print('Error during the request.')\n",
    "        print(r.status_code)\n",
    "        print(r.text)\n",
    "        \n",
    "def get_artist_info(artist_id, token):\n",
    "    '''\n",
    "    Receives artist_id and a valid token and returns amount of followers, genres and popularity of the artist.\n",
    "    '''\n",
    "    header = {'Authorization': f'Bearer {token}'}\n",
    "    r = requests.get(f'https://api.spotify.com/v1/artists/{artist_id}', headers=header)\n",
    "    if r.status_code == 200:\n",
    "        return {'followers': r.json()['followers']['total'], \n",
    "                'genres': r.json()['genres'], \n",
    "                'popularity': r.json()['popularity']}\n",
    "    else:\n",
    "        print('Error during the request.')\n",
    "        print(r.status_code)\n",
    "        print(r.text)\n",
    "\n",
    "def get_artist_albums(artist_id, token):\n",
    "    '''\n",
    "    Receives artist_id and a valid token and returns a list of dictionary of albums,\n",
    "    where keys correspond to release dates and values to the names of the albums.\n",
    "    '''\n",
    "    header = {'Authorization': f'Bearer {token}'}\n",
    "    r = requests.get(f'https://api.spotify.com/v1/artists/{artist_id}/albums?limit=50&include_groups=album,single,appears_on', headers=header)\n",
    "    if r.status_code == 200:\n",
    "        albums = dict()\n",
    "        for item in r.json()['items']:\n",
    "            albums[item['release_date']] = item['name']\n",
    "        \n",
    "        next_ = r.json()['next']\n",
    "        while next_ != None:\n",
    "            r = requests.get(next_, headers=header)\n",
    "            if r.status_code == 200:\n",
    "                for item in r.json()['items']:\n",
    "                    albums[item['release_date']] = item['name']\n",
    "                next_ = r.json()['next']\n",
    "        \n",
    "        return albums\n",
    "    \n",
    "    else:\n",
    "        print('Error during the request.')\n",
    "        print(r.status_code)\n",
    "        print(r.text)\n",
    "        \n",
    "def get_related_artists(artist_id, token):\n",
    "    '''\n",
    "    Receives artist_id and a valid token and returns a list of related artists and a list of related genres,\n",
    "    with possible repeated values.\n",
    "    '''\n",
    "    header = {'Authorization': f'Bearer {token}'}\n",
    "    r = requests.get(f'https://api.spotify.com/v1/artists/{artist_id}/related-artists', headers=header)\n",
    "    if r.status_code == 200:\n",
    "        genres = []\n",
    "        for genre_list in [artist['genres'] for artist in r.json()['artists']]:\n",
    "            genres = genres+ genre_list\n",
    "        return {'related_artists': [artist['name'] for artist in r.json()['artists']], \n",
    "                'related_genres':genres}\n",
    "    else:\n",
    "        print('Error during the request.')\n",
    "        print(r.status_code)\n",
    "        print(r.text)"
   ]
  },
  {
   "cell_type": "markdown",
   "metadata": {},
   "source": [
    "Read the credentials from 'credentials.txt'"
   ]
  },
  {
   "cell_type": "code",
   "execution_count": null,
   "metadata": {},
   "outputs": [],
   "source": [
    "client_id = None\n",
    "client_secret = None\n",
    "\n",
    "with open('credentials.txt', 'r') as file:\n",
    "    for line in file:\n",
    "        if 'client_id' in line:\n",
    "            start = line.find('\\'')+1\n",
    "            end = line[start:].find('\\'')\n",
    "            client_id = line[start:start+end]\n",
    "            print('Found Client ID')#, client_id)\n",
    "        elif 'client_secret' in line:\n",
    "            start = line.find('\\'')+1\n",
    "            end = line[start:].find('\\'')\n",
    "            client_secret = line[start:start+end]\n",
    "            print('Found Client secret')#, client_secret)\n",
    "        if client_id != None and client_secret != None:\n",
    "            break\n",
    "    file.close()\n",
    "    \n",
    "    if client_id == None:\n",
    "        print('Client ID not found in credentials.txt')\n",
    "    if client_secret == None:\n",
    "        print('Client secret not found in credentials.txt')"
   ]
  },
  {
   "cell_type": "markdown",
   "metadata": {},
   "source": [
    "Get a valid token based on the credentials read"
   ]
  },
  {
   "cell_type": "code",
   "execution_count": null,
   "metadata": {},
   "outputs": [],
   "source": [
    "token = get_token(client_id, client_secret)"
   ]
  },
  {
   "cell_type": "markdown",
   "metadata": {},
   "source": [
    "Lollapalooza lineup from https://www.lollapaloozaar.com/news/lollapalooza-argentina-confirma-su-lineup-por-dia/"
   ]
  },
  {
   "cell_type": "code",
   "execution_count": null,
   "metadata": {},
   "outputs": [],
   "source": [
    "lineup_day_1 = 'Travis Scott – Martin Garrix – Los Fabulosos Cadillacs – Brockhampton – DUKI – Madeon – Rita Ora – A Day to Remember – King Princess – LP – WOS – Denzel Curry – Yungblud – Nathy Peluso – J mena – AJR – Louta – Two Feet – Bizarrap – Fuego – La Delio Valdez – Dani – Kaydy Cain – Maye – Boombox Cartel – Cimafunk – Ms Nina – Feli Colina – Axel Fiks – Lucia Tacchetti – DJ Sky – Alejo y Valentin'\n",
    "lineup_day_2 = 'The Strokes – Gwen Stefani – Armin Van Buuren – Vampire Weekend – Ratones Paranoicos – ILLENIUM – Kacey Musgraves – Litto Nebbia – Charli XCX – Jaden Smith – R3HAB – Hayley Kiyoko – El Mató a un Policía Motorizado – Rels B – Emmanuel Horvilleur – Kali Uchis – Paloma Mami – Fabiana Cantilo – Trueno – Amaia – Wallows – Yung Beef – Zoe Gotusso – Girl Ultra – Las Ligas Menores – Ainda – Ghetto Kids – D3FAI – Paco Leiva – LIMON – Louly'\n",
    "lineup_day_3 = 'Guns N’ Roses – Lana del Rey – Cage the Elephant – James Blake – Alan Walker – Rezz – The Lumineers – Rex Orange County – MIKA – Perry Farrell’s Kind Heaven Orchestra – Airbag – Lauv – YSY A – Chris Lake – Pabllo Vittar – San Holo – Emilia – Idles – Masego – The Hu – Elsa y Elmar – Natalie Perez – Goldfish – Florian – Miranda Johansen – DABOW – El Buen Salvaje – Metro Live – Reydel'"
   ]
  },
  {
   "cell_type": "markdown",
   "metadata": {},
   "source": [
    "Convert the string into a list of artists"
   ]
  },
  {
   "cell_type": "code",
   "execution_count": null,
   "metadata": {},
   "outputs": [],
   "source": [
    "str_to_list = lambda x: [band.strip() for band in x.split('–')]"
   ]
  },
  {
   "cell_type": "code",
   "execution_count": null,
   "metadata": {},
   "outputs": [],
   "source": [
    "lineup_day_1 = str_to_list(lineup_day_1)\n",
    "lineup_day_2 = str_to_list(lineup_day_2)\n",
    "lineup_day_3 = str_to_list(lineup_day_3)"
   ]
  },
  {
   "cell_type": "markdown",
   "metadata": {},
   "source": [
    "Find artists ids on Spotify"
   ]
  },
  {
   "cell_type": "code",
   "execution_count": null,
   "metadata": {},
   "outputs": [],
   "source": [
    "artists_ids = [search_artist_id(artist, token) for artist in lineup_day_1+lineup_day_2+lineup_day_3]"
   ]
  },
  {
   "cell_type": "code",
   "execution_count": null,
   "metadata": {},
   "outputs": [],
   "source": [
    "artists_ids = {artist_name: artist_id for (artist_name, artist_id) in artists_ids}"
   ]
  },
  {
   "cell_type": "markdown",
   "metadata": {},
   "source": [
    "Manually search for a missing artist's id"
   ]
  },
  {
   "cell_type": "code",
   "execution_count": null,
   "metadata": {},
   "outputs": [],
   "source": [
    "search_artist_id('perry farrell', token)"
   ]
  },
  {
   "cell_type": "code",
   "execution_count": null,
   "metadata": {},
   "outputs": [],
   "source": [
    "artists_ids['Perry Farrell’s Kind Heaven Orchestra'] = search_artist_id('perry farrell', token)[1]"
   ]
  },
  {
   "cell_type": "markdown",
   "metadata": {},
   "source": [
    "Remove \"Metro Live\" since it's not an artist."
   ]
  },
  {
   "cell_type": "code",
   "execution_count": null,
   "metadata": {},
   "outputs": [],
   "source": [
    "artists_ids.pop('Metro Live')"
   ]
  },
  {
   "cell_type": "markdown",
   "metadata": {},
   "source": [
    "## Building the artists DataFrame"
   ]
  },
  {
   "cell_type": "code",
   "execution_count": null,
   "metadata": {},
   "outputs": [],
   "source": [
    "df_artists = pd.DataFrame.from_dict(artists_ids, orient='index', columns=['artist_id'])"
   ]
  },
  {
   "cell_type": "markdown",
   "metadata": {},
   "source": [
    "Get info for each artist and add it to the df"
   ]
  },
  {
   "cell_type": "code",
   "execution_count": null,
   "metadata": {},
   "outputs": [],
   "source": [
    "df_artists[['followers', 'genres', 'popularity']] = df_artists.apply(lambda x: get_artist_info(x['artist_id'], token=token),\n",
    "                                                                     axis=1, result_type='expand')"
   ]
  },
  {
   "cell_type": "code",
   "execution_count": null,
   "metadata": {},
   "outputs": [],
   "source": [
    "df_artists['albums'] = df_artists.apply(lambda x: get_artist_albums(x['artist_id'], token=token), axis=1)"
   ]
  },
  {
   "cell_type": "code",
   "execution_count": null,
   "metadata": {},
   "outputs": [],
   "source": [
    "df_artists[['related_artists', 'related_genres']] = df_artists.apply(lambda x: get_related_artists(x['artist_id'], token=token),\n",
    "                                                                     axis=1, result_type='expand')"
   ]
  },
  {
   "cell_type": "markdown",
   "metadata": {},
   "source": [
    "Indicate on which day each artist is performing"
   ]
  },
  {
   "cell_type": "code",
   "execution_count": null,
   "metadata": {},
   "outputs": [],
   "source": [
    "df_artists['day'] = None\n",
    "df_artists.loc[lineup_day_1[0]:lineup_day_1[-1], 'day'] = 1\n",
    "df_artists.loc[lineup_day_2[0]:lineup_day_2[-1], 'day'] = 2\n",
    "df_artists['day'].fillna(3, inplace=True)"
   ]
  },
  {
   "cell_type": "code",
   "execution_count": null,
   "metadata": {},
   "outputs": [],
   "source": [
    "df_artists.head()"
   ]
  },
  {
   "cell_type": "markdown",
   "metadata": {},
   "source": [
    "Export to .csv"
   ]
  },
  {
   "cell_type": "code",
   "execution_count": null,
   "metadata": {},
   "outputs": [],
   "source": [
    "df_artists.to_csv('artists.csv', index_label='artist')"
   ]
  },
  {
   "cell_type": "markdown",
   "metadata": {},
   "source": [
    "---"
   ]
  }
 ],
 "metadata": {
  "kernelspec": {
   "display_name": "Python 3",
   "language": "python",
   "name": "python3"
  },
  "language_info": {
   "codemirror_mode": {
    "name": "ipython",
    "version": 3
   },
   "file_extension": ".py",
   "mimetype": "text/x-python",
   "name": "python",
   "nbconvert_exporter": "python",
   "pygments_lexer": "ipython3",
   "version": "3.7.3"
  }
 },
 "nbformat": 4,
 "nbformat_minor": 4
}
