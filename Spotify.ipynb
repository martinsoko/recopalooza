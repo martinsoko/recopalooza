{
 "cells": [
  {
   "cell_type": "code",
   "execution_count": 1,
   "metadata": {},
   "outputs": [],
   "source": [
    "import requests\n",
    "import numpy as np\n",
    "import pandas as pd"
   ]
  },
  {
   "cell_type": "code",
   "execution_count": 2,
   "metadata": {},
   "outputs": [],
   "source": [
    "import base64\n",
    "def get_token(client_id, client_secret):\n",
    "    encoded = base64.b64encode(bytes(client_id+':'+client_secret, 'utf-8'))\n",
    "    params = {'grant_type':'client_credentials'}\n",
    "    header={'Authorization': 'Basic ' + str(encoded, 'utf-8')}\n",
    "    r = requests.post('https://accounts.spotify.com/api/token', headers=header, data=params)\n",
    "    if r.status_code != 200:\n",
    "        print('Error en la request.', r.json())\n",
    "        return None\n",
    "    print('Token válido por {} segundos.'.format(r.json()['expires_in']))\n",
    "    return r.json()['access_token']\n",
    "\n",
    "def search_artist_id(string, token):\n",
    "    ep_busqueda = 'https://api.spotify.com/v1/search'\n",
    "    header = {'Authorization': f'Bearer {token}'}\n",
    "    search_params = {'q': string, 'type': 'artist'}#, 'market': 'AR'}\n",
    "    r = requests.get(ep_busqueda, headers=header, params=search_params)\n",
    "    if r.status_code == 200:\n",
    "        if len(r.json()['artists']['items']) > 0:\n",
    "            return tuple(pd.DataFrame(r.json()['artists']['items']).sort_values(by='popularity', ascending=False).loc[0,['name', 'id']].values)\n",
    "        else:\n",
    "            print('Artist not found:', string)\n",
    "            return (string, None)\n",
    "\n",
    "    else:\n",
    "        print(\"Error during the request\")\n",
    "        print(r.status_code)\n",
    "        print(r.text)\n",
    "        \n",
    "        \n",
    "def get_artist_info(artist_id, token):\n",
    "    header = {'Authorization': f'Bearer {token}'}\n",
    "    r = requests.get(f'https://api.spotify.com/v1/artists/{artist_id}', headers=header)\n",
    "    if r.status_code == 200:\n",
    "        return r.json()\n",
    "    else:\n",
    "        print(\"Error during the request\")\n",
    "        print(r.status_code)\n",
    "        print(r.text)\n",
    "        \n",
    "def get_related_artists(artist_id, token):\n",
    "    header = {'Authorization': f'Bearer {token}'}\n",
    "    r = requests.get(f'https://api.spotify.com/v1/artists/{artist_id}/related-artists', headers=header)\n",
    "    if r.status_code == 200:\n",
    "        return [(artist['name'], artist['genres'], artist['id']) for artist in r.json()['artists']]\n",
    "    else:\n",
    "        print(\"Error during the request\")\n",
    "        print(r.status_code)\n",
    "        print(r.text)"
   ]
  },
  {
   "cell_type": "code",
   "execution_count": 25,
   "metadata": {},
   "outputs": [
    {
     "name": "stdout",
     "output_type": "stream",
     "text": [
      "Found Client ID: 44b7b36ec145467f9a9eeaf7e417cf8b\n",
      "Found Client secret: 7b4aa7a0ef4844048ab1d22430a1eb1f\n"
     ]
    }
   ],
   "source": [
    "client_id = None\n",
    "client_secret = None\n",
    "with open('credentials.txt', 'r') as file:\n",
    "    for line in file:\n",
    "        if 'client_id' in line:\n",
    "            start = line.find('\\'')+1\n",
    "            end = line[start:].find('\\'')\n",
    "            client_id = line[start:start+end]\n",
    "            print('Found Client ID:', client_id)\n",
    "        elif 'client_secret' in line:\n",
    "            start = line.find('\\'')+1\n",
    "            end = line[start:].find('\\'')\n",
    "            client_secret = line[start:start+end]\n",
    "            print('Found Client secret:', client_secret)\n",
    "        if client_id != None and client_secret != None:\n",
    "            break\n",
    "    file.close()\n",
    "    if client_id == None:\n",
    "        print('Client ID not found in credentials.txt')\n",
    "    if client_secret == None:\n",
    "        print('Client secret not found in credentials.txt')"
   ]
  },
  {
   "cell_type": "code",
   "execution_count": 26,
   "metadata": {},
   "outputs": [
    {
     "name": "stdout",
     "output_type": "stream",
     "text": [
      "Token válido por 3600 segundos.\n"
     ]
    }
   ],
   "source": [
    "token = get_token(client_id, client_secret)"
   ]
  },
  {
   "cell_type": "code",
   "execution_count": 6,
   "metadata": {},
   "outputs": [],
   "source": [
    "lineup_day_1 = 'Travis Scott – Martin Garrix – Los Fabulosos Cadillacs – Brockhampton – DUKI – Madeon – Rita Ora – A Day to Remember – King Princess – LP – WOS – Denzel Curry – Yungblud – Nathy Peluso – J mena – AJR – Louta – Two Feet – Bizarrap – Fuego – La Delio Valdez – Dani – Kaydy Cain – Maye – Boombox Cartel – Cimafunk – Ms Nina – Feli Colina – Axel Fiks – Lucia Tacchetti – DJ Sky – Alejo y Valentin'\n",
    "lineup_day_2 = 'The Strokes – Gwen Stefani – Armin Van Buuren – Vampire Weekend – Ratones Paranoicos – ILLENIUM – Kacey Musgraves – Litto Nebbia – Charli XCX – Jaden Smith – R3HAB – Hayley Kiyoko – El Mató a un Policía Motorizado – Rels B – Emmanuel Horvilleur – Kali Uchis – Paloma Mami – Fabiana Cantilo – Trueno – Amaia – Wallows – Yung Beef – Zoe Gotusso – Girl Ultra – Las Ligas Menores – Ainda – Ghetto Kids – D3FAI – Paco Leiva – LIMON – Louly'\n",
    "lineup_day_3 = 'Guns N’ Roses – Lana del Rey – Cage the Elephant – James Blake – Alan Walker – Rezz – The Lumineers – Rex Orange County – MIKA – Perry Farrell’s Kind Heaven Orchestra – Airbag – Lauv – YSY A – Chris Lake – Pabllo Vittar – San Holo – Emilia – Idles – Masego – The Hu – Elsa y Elmar – Natalie Perez – Goldfish – Florian – Miranda Johansen – DABOW – El Buen Salvaje – Metro Live – Reydel'"
   ]
  },
  {
   "cell_type": "code",
   "execution_count": 7,
   "metadata": {},
   "outputs": [],
   "source": [
    "str_to_list = lambda x: [band.strip() for band in x.split('–')]"
   ]
  },
  {
   "cell_type": "code",
   "execution_count": 8,
   "metadata": {},
   "outputs": [],
   "source": [
    "lineup_day_1 = str_to_list(lineup_day_1)\n",
    "lineup_day_2 = str_to_list(lineup_day_2)\n",
    "lineup_day_3 = str_to_list(lineup_day_3)"
   ]
  },
  {
   "cell_type": "code",
   "execution_count": 9,
   "metadata": {},
   "outputs": [
    {
     "name": "stdout",
     "output_type": "stream",
     "text": [
      "Artist not found: Perry Farrell’s Kind Heaven Orchestra\n",
      "Artist not found: Metro Live\n"
     ]
    }
   ],
   "source": [
    "artists_ids = [search_artist_id(artist, token) for artist in lineup_day_1+lineup_day_2+lineup_day_3]"
   ]
  },
  {
   "cell_type": "code",
   "execution_count": 10,
   "metadata": {},
   "outputs": [],
   "source": [
    "artists_ids = {artist_name: artist_id for (artist_name, artist_id) in artists_ids}"
   ]
  },
  {
   "cell_type": "code",
   "execution_count": 11,
   "metadata": {},
   "outputs": [
    {
     "data": {
      "text/plain": [
       "('Perry Farrell', '2DS5RPK5A2GQTucYlgsQdE')"
      ]
     },
     "execution_count": 11,
     "metadata": {},
     "output_type": "execute_result"
    }
   ],
   "source": [
    "search_artist_id('perry farrell', token)"
   ]
  },
  {
   "cell_type": "code",
   "execution_count": 12,
   "metadata": {},
   "outputs": [],
   "source": [
    "artists_ids['Perry Farrell’s Kind Heaven Orchestra'] = search_artist_id('perry farrell', token)[1]"
   ]
  },
  {
   "cell_type": "code",
   "execution_count": 13,
   "metadata": {},
   "outputs": [],
   "source": [
    "artists_ids.pop('Metro Live')"
   ]
  },
  {
   "cell_type": "code",
   "execution_count": 14,
   "metadata": {},
   "outputs": [
    {
     "data": {
      "text/plain": [
       "{'external_urls': {'spotify': 'https://open.spotify.com/artist/0Y5tJX1MQlPlqiwlOH1tJY'},\n",
       " 'followers': {'href': None, 'total': 7653146},\n",
       " 'genres': ['rap'],\n",
       " 'href': 'https://api.spotify.com/v1/artists/0Y5tJX1MQlPlqiwlOH1tJY',\n",
       " 'id': '0Y5tJX1MQlPlqiwlOH1tJY',\n",
       " 'images': [{'height': 640,\n",
       "   'url': 'https://i.scdn.co/image/fec51156ed94b7ee30fbd4c7fd29b4a840e7daec',\n",
       "   'width': 640},\n",
       "  {'height': 320,\n",
       "   'url': 'https://i.scdn.co/image/67497c55a766af3f57860c88562314a313fc137c',\n",
       "   'width': 320},\n",
       "  {'height': 160,\n",
       "   'url': 'https://i.scdn.co/image/d7a58203669d00936dd5b89ba6f6e192c119532d',\n",
       "   'width': 160}],\n",
       " 'name': 'Travis Scott',\n",
       " 'popularity': 98,\n",
       " 'type': 'artist',\n",
       " 'uri': 'spotify:artist:0Y5tJX1MQlPlqiwlOH1tJY'}"
      ]
     },
     "execution_count": 14,
     "metadata": {},
     "output_type": "execute_result"
    }
   ],
   "source": [
    "get_artist_info(artists_ids[lineup_day_1[0]], token)"
   ]
  },
  {
   "cell_type": "code",
   "execution_count": 15,
   "metadata": {},
   "outputs": [
    {
     "data": {
      "text/plain": [
       "[('William Black',\n",
       "  ['bass trap', 'edm', 'pop edm', 'traprun'],\n",
       "  '7d5SfGXKpgS3JK8BFIq59h'),\n",
       " ('ARMNHMR',\n",
       "  ['brostep', 'edm', 'electro house', 'electronic trap', 'pop edm'],\n",
       "  '0P2bZXPyjHYRW4guHVAFl1'),\n",
       " ('Nurko', ['bass trap', 'pop edm', 'traprun'], '757FXqX0Osk2pqtgv4E5v4'),\n",
       " ('Dabin',\n",
       "  ['canadian electronic', 'catstep', 'chillstep', 'edm', 'pop edm'],\n",
       "  '7lZauDnRoAC3kmaYae2opv'),\n",
       " ('Said the Sky', ['edm', 'electropop', 'pop edm'], '4LZ4De2MoO3lP6QaNCfvcu'),\n",
       " ('Slushii',\n",
       "  ['bass trap',\n",
       "   'brostep',\n",
       "   'edm',\n",
       "   'electro house',\n",
       "   'electronic trap',\n",
       "   'pop edm'],\n",
       "  '41rVuRHYAiH7ltBTHVR9We'),\n",
       " ('Seven Lions',\n",
       "  ['brostep', 'edm', 'electro house', 'pop edm'],\n",
       "  '6fcTRFpz0yH79qSKfof7lp'),\n",
       " ('Skrux',\n",
       "  ['catstep', 'chillstep', 'edm', 'pop edm'],\n",
       "  '6cwRqYSDYwWsLveCcDRhyY'),\n",
       " ('Kasbo',\n",
       "  ['catstep',\n",
       "   'edm',\n",
       "   'electropop',\n",
       "   'indie electropop',\n",
       "   'indie poptimism',\n",
       "   'indietronica',\n",
       "   'new french touch',\n",
       "   'pop edm',\n",
       "   'swedish electropop',\n",
       "   'tropical house',\n",
       "   'vapor soul',\n",
       "   'vapor twitch'],\n",
       "  '1ikID9RZZMvkuBGDWrqajq'),\n",
       " ('Manila Killa',\n",
       "  ['edm',\n",
       "   'electropop',\n",
       "   'indie electropop',\n",
       "   'pop edm',\n",
       "   'vapor soul',\n",
       "   'vapor twitch'],\n",
       "  '4EukMPjtYsdi87lkU1hIxN'),\n",
       " ('Jai Wolf',\n",
       "  ['edm',\n",
       "   'electropop',\n",
       "   'indie electropop',\n",
       "   'indie poptimism',\n",
       "   'indietronica',\n",
       "   'pop edm',\n",
       "   'tropical house',\n",
       "   'vapor soul',\n",
       "   'vapor twitch'],\n",
       "  '24V5UY0nChKpnb1TBPJhCw'),\n",
       " ('Win and Woo',\n",
       "  ['edm',\n",
       "   'electropop',\n",
       "   'indie electropop',\n",
       "   'indie poptimism',\n",
       "   'pop edm',\n",
       "   'tropical house'],\n",
       "  '2KPQ6PYAZapLEwMmkzbQxC'),\n",
       " ('Crystal Skies', ['chillstep', 'pop edm'], '6HraHl4uwIQFixUu3J49BK'),\n",
       " ('Ekali',\n",
       "  ['bass trap',\n",
       "   'brostep',\n",
       "   'canadian electronic',\n",
       "   'edm',\n",
       "   'electro house',\n",
       "   'electronic trap',\n",
       "   'electropop',\n",
       "   'indie electropop',\n",
       "   'pop edm',\n",
       "   'vapor soul',\n",
       "   'vapor twitch'],\n",
       "  '0Y0QSi6lz1bPik5Ffjr8sd'),\n",
       " ('Crywolf',\n",
       "  ['catstep', 'chillstep', 'edm', 'indie poptimism'],\n",
       "  '33o00sXuyWiApOFzo0vr0z'),\n",
       " ('INZO', ['edm', 'vapor twitch'], '18Eu7uJEMPWwwt1QUdCglQ'),\n",
       " ('Taska Black',\n",
       "  ['bass trap',\n",
       "   'edm',\n",
       "   'electronic trap',\n",
       "   'electropop',\n",
       "   'indie electropop',\n",
       "   'pop edm',\n",
       "   'traprun',\n",
       "   'vapor twitch'],\n",
       "  '3XFcu2NnGWceLNdxRCfYH3'),\n",
       " ('DROELOE',\n",
       "  ['bass trap',\n",
       "   'edm',\n",
       "   'electronic trap',\n",
       "   'electropop',\n",
       "   'pop edm',\n",
       "   'traprun',\n",
       "   'vapor soul',\n",
       "   'vapor twitch'],\n",
       "  '0u18Cq5stIQLUoIaULzDmA'),\n",
       " ('Kaivon',\n",
       "  ['bass trap',\n",
       "   'brostep',\n",
       "   'edm',\n",
       "   'electronic trap',\n",
       "   'pop edm',\n",
       "   'traprun',\n",
       "   'vapor twitch'],\n",
       "  '55FVjkpZs1zuo3zqBgrKtC'),\n",
       " ('San Holo',\n",
       "  ['edm',\n",
       "   'electro house',\n",
       "   'electronic trap',\n",
       "   'electropop',\n",
       "   'pop edm',\n",
       "   'vapor twitch'],\n",
       "  '0jNDKefhfSbLR9sFvcPLHo')]"
      ]
     },
     "execution_count": 15,
     "metadata": {},
     "output_type": "execute_result"
    }
   ],
   "source": [
    "get_related_artists(artists_ids[lineup_day_2[5]], token)"
   ]
  },
  {
   "cell_type": "code",
   "execution_count": null,
   "metadata": {},
   "outputs": [],
   "source": []
  }
 ],
 "metadata": {
  "kernelspec": {
   "display_name": "base",
   "language": "python",
   "name": "base"
  },
  "language_info": {
   "codemirror_mode": {
    "name": "ipython",
    "version": 3
   },
   "file_extension": ".py",
   "mimetype": "text/x-python",
   "name": "python",
   "nbconvert_exporter": "python",
   "pygments_lexer": "ipython3",
   "version": "3.6.9"
  }
 },
 "nbformat": 4,
 "nbformat_minor": 2
}
