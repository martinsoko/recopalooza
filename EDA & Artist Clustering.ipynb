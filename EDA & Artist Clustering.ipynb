{
 "cells": [
  {
   "cell_type": "code",
   "execution_count": 106,
   "metadata": {},
   "outputs": [],
   "source": [
    "import pandas as pd\n",
    "from ast import literal_eval\n",
    "from sklearn.preprocessing import MultiLabelBinarizer, StandardScaler\n",
    "from sklearn.metrics.pairwise import cosine_similarity\n",
    "import matplotlib.pyplot as plt\n",
    "from scipy.cluster.hierarchy import ward, dendrogram, fcluster"
   ]
  },
  {
   "cell_type": "code",
   "execution_count": 76,
   "metadata": {},
   "outputs": [],
   "source": [
    "df_artists = pd.read_csv('artists.csv', index_col='artist', converters={'genres': literal_eval, 'albums': literal_eval,\n",
    "                                                                        'related_artists':literal_eval, 'related_genres':literal_eval})"
   ]
  },
  {
   "cell_type": "markdown",
   "metadata": {},
   "source": [
    "## Data wrangling"
   ]
  },
  {
   "cell_type": "markdown",
   "metadata": {},
   "source": [
    "Impute empty genres with related genres"
   ]
  },
  {
   "cell_type": "code",
   "execution_count": 77,
   "metadata": {},
   "outputs": [],
   "source": [
    "df_artists.loc[df_artists['genres'].apply(lambda x: len(x) == 0), 'genres'] = df_artists['related_genres']"
   ]
  },
  {
   "cell_type": "code",
   "execution_count": 78,
   "metadata": {},
   "outputs": [
    {
     "data": {
      "text/plain": [
       "MultiLabelBinarizer(classes=None, sparse_output=False)"
      ]
     },
     "execution_count": 78,
     "metadata": {},
     "output_type": "execute_result"
    }
   ],
   "source": [
    "mlb = MultiLabelBinarizer()\n",
    "mlb.fit(df_artists['genres'])"
   ]
  },
  {
   "cell_type": "markdown",
   "metadata": {},
   "source": [
    "One-hot encode genres"
   ]
  },
  {
   "cell_type": "code",
   "execution_count": 79,
   "metadata": {},
   "outputs": [],
   "source": [
    "df_genres = pd.DataFrame(data=mlb.transform(df_artists['genres']), \n",
    "                         columns=['genre: {}'.format(genre) for genre in mlb.classes_],\n",
    "                         index=df_artists.index)"
   ]
  },
  {
   "cell_type": "code",
   "execution_count": 80,
   "metadata": {},
   "outputs": [
    {
     "data": {
      "text/html": [
       "<div>\n",
       "<style scoped>\n",
       "    .dataframe tbody tr th:only-of-type {\n",
       "        vertical-align: middle;\n",
       "    }\n",
       "\n",
       "    .dataframe tbody tr th {\n",
       "        vertical-align: top;\n",
       "    }\n",
       "\n",
       "    .dataframe thead th {\n",
       "        text-align: right;\n",
       "    }\n",
       "</style>\n",
       "<table border=\"1\" class=\"dataframe\">\n",
       "  <thead>\n",
       "    <tr style=\"text-align: right;\">\n",
       "      <th></th>\n",
       "      <th>artist_id</th>\n",
       "      <th>followers</th>\n",
       "      <th>genres</th>\n",
       "      <th>popularity</th>\n",
       "      <th>albums</th>\n",
       "      <th>related_artists</th>\n",
       "      <th>related_genres</th>\n",
       "      <th>day</th>\n",
       "      <th>genre: alternative r&amp;b</th>\n",
       "      <th>genre: alternative rock</th>\n",
       "      <th>...</th>\n",
       "      <th>genre: trap argentino</th>\n",
       "      <th>genre: trap chileno</th>\n",
       "      <th>genre: trap espanol</th>\n",
       "      <th>genre: trap latino</th>\n",
       "      <th>genre: tropical</th>\n",
       "      <th>genre: tropical house</th>\n",
       "      <th>genre: uk alternative pop</th>\n",
       "      <th>genre: uk pop</th>\n",
       "      <th>genre: underground hip hop</th>\n",
       "      <th>genre: vapor twitch</th>\n",
       "    </tr>\n",
       "    <tr>\n",
       "      <th>artist</th>\n",
       "      <th></th>\n",
       "      <th></th>\n",
       "      <th></th>\n",
       "      <th></th>\n",
       "      <th></th>\n",
       "      <th></th>\n",
       "      <th></th>\n",
       "      <th></th>\n",
       "      <th></th>\n",
       "      <th></th>\n",
       "      <th></th>\n",
       "      <th></th>\n",
       "      <th></th>\n",
       "      <th></th>\n",
       "      <th></th>\n",
       "      <th></th>\n",
       "      <th></th>\n",
       "      <th></th>\n",
       "      <th></th>\n",
       "      <th></th>\n",
       "      <th></th>\n",
       "    </tr>\n",
       "  </thead>\n",
       "  <tbody>\n",
       "    <tr>\n",
       "      <td>Travis Scott</td>\n",
       "      <td>0Y5tJX1MQlPlqiwlOH1tJY</td>\n",
       "      <td>7697676</td>\n",
       "      <td>[rap]</td>\n",
       "      <td>98</td>\n",
       "      <td>{'2019-12-27': 'JACKBOYS', '2018-11-06': 'NOT ...</td>\n",
       "      <td>[A$AP Rocky, Chief Keef, KIDS SEE GHOSTS, Push...</td>\n",
       "      <td>[east coast hip hop, hip hop, pop rap, rap, tr...</td>\n",
       "      <td>1</td>\n",
       "      <td>0</td>\n",
       "      <td>0</td>\n",
       "      <td>...</td>\n",
       "      <td>0</td>\n",
       "      <td>0</td>\n",
       "      <td>0</td>\n",
       "      <td>0</td>\n",
       "      <td>0</td>\n",
       "      <td>0</td>\n",
       "      <td>0</td>\n",
       "      <td>0</td>\n",
       "      <td>0</td>\n",
       "      <td>0</td>\n",
       "    </tr>\n",
       "    <tr>\n",
       "      <td>Martin Garrix</td>\n",
       "      <td>60d24wfXkVzDSfLS6hyCjZ</td>\n",
       "      <td>12566165</td>\n",
       "      <td>[big room, edm, pop, progressive house, tropic...</td>\n",
       "      <td>88</td>\n",
       "      <td>{'2019-07-10': 'The Martin Garrix Experience',...</td>\n",
       "      <td>[AREA21, Brooks, Deorro, Lucas &amp; Steve, KAAZE,...</td>\n",
       "      <td>[big room, edm, big room, deep big room, edm, ...</td>\n",
       "      <td>1</td>\n",
       "      <td>0</td>\n",
       "      <td>0</td>\n",
       "      <td>...</td>\n",
       "      <td>0</td>\n",
       "      <td>0</td>\n",
       "      <td>0</td>\n",
       "      <td>0</td>\n",
       "      <td>0</td>\n",
       "      <td>1</td>\n",
       "      <td>0</td>\n",
       "      <td>0</td>\n",
       "      <td>0</td>\n",
       "      <td>0</td>\n",
       "    </tr>\n",
       "    <tr>\n",
       "      <td>Los Fabulosos Cadillacs</td>\n",
       "      <td>2FS22haX3FYbyOsUAkuYqZ</td>\n",
       "      <td>1671946</td>\n",
       "      <td>[argentine rock, latin alternative, latin rock...</td>\n",
       "      <td>73</td>\n",
       "      <td>{'2017-10-20': 'En Vivo en The Theater at Madi...</td>\n",
       "      <td>[Los Pericos, Vicentico, Aterciopelados, Los A...</td>\n",
       "      <td>[argentine reggae, argentine rock, latin alter...</td>\n",
       "      <td>1</td>\n",
       "      <td>0</td>\n",
       "      <td>0</td>\n",
       "      <td>...</td>\n",
       "      <td>0</td>\n",
       "      <td>0</td>\n",
       "      <td>0</td>\n",
       "      <td>0</td>\n",
       "      <td>0</td>\n",
       "      <td>0</td>\n",
       "      <td>0</td>\n",
       "      <td>0</td>\n",
       "      <td>0</td>\n",
       "      <td>0</td>\n",
       "    </tr>\n",
       "    <tr>\n",
       "      <td>Brockhampton</td>\n",
       "      <td>1Bl6wpkWCQ4KVgnASpvzzA</td>\n",
       "      <td>1183998</td>\n",
       "      <td>[boy band, hip hop, pop, rap]</td>\n",
       "      <td>85</td>\n",
       "      <td>{'2019-08-23': 'GINGER', '2018-09-21': 'irides...</td>\n",
       "      <td>[Kevin Abstract, Matt Champion, JPEGMAFIA, Ame...</td>\n",
       "      <td>[alternative r&amp;b, hip hop, lgbtq+ hip hop, rap...</td>\n",
       "      <td>1</td>\n",
       "      <td>0</td>\n",
       "      <td>0</td>\n",
       "      <td>...</td>\n",
       "      <td>0</td>\n",
       "      <td>0</td>\n",
       "      <td>0</td>\n",
       "      <td>0</td>\n",
       "      <td>0</td>\n",
       "      <td>0</td>\n",
       "      <td>0</td>\n",
       "      <td>0</td>\n",
       "      <td>0</td>\n",
       "      <td>0</td>\n",
       "    </tr>\n",
       "    <tr>\n",
       "      <td>DUKI</td>\n",
       "      <td>1bAftSH8umNcGZ0uyV7LMg</td>\n",
       "      <td>2712196</td>\n",
       "      <td>[argentine hip hop, trap argentino]</td>\n",
       "      <td>84</td>\n",
       "      <td>{'2019-11-01': 'Súper Sangre Joven', '2020-01-...</td>\n",
       "      <td>[Uriel Natero, Bhavi, KHEA, Lit Killah, Seven ...</td>\n",
       "      <td>[argentine hip hop, trap argentino, argentine ...</td>\n",
       "      <td>1</td>\n",
       "      <td>0</td>\n",
       "      <td>0</td>\n",
       "      <td>...</td>\n",
       "      <td>1</td>\n",
       "      <td>0</td>\n",
       "      <td>0</td>\n",
       "      <td>0</td>\n",
       "      <td>0</td>\n",
       "      <td>0</td>\n",
       "      <td>0</td>\n",
       "      <td>0</td>\n",
       "      <td>0</td>\n",
       "      <td>0</td>\n",
       "    </tr>\n",
       "  </tbody>\n",
       "</table>\n",
       "<p>5 rows × 151 columns</p>\n",
       "</div>"
      ],
      "text/plain": [
       "                                      artist_id  followers  \\\n",
       "artist                                                       \n",
       "Travis Scott             0Y5tJX1MQlPlqiwlOH1tJY    7697676   \n",
       "Martin Garrix            60d24wfXkVzDSfLS6hyCjZ   12566165   \n",
       "Los Fabulosos Cadillacs  2FS22haX3FYbyOsUAkuYqZ    1671946   \n",
       "Brockhampton             1Bl6wpkWCQ4KVgnASpvzzA    1183998   \n",
       "DUKI                     1bAftSH8umNcGZ0uyV7LMg    2712196   \n",
       "\n",
       "                                                                    genres  \\\n",
       "artist                                                                       \n",
       "Travis Scott                                                         [rap]   \n",
       "Martin Garrix            [big room, edm, pop, progressive house, tropic...   \n",
       "Los Fabulosos Cadillacs  [argentine rock, latin alternative, latin rock...   \n",
       "Brockhampton                                 [boy band, hip hop, pop, rap]   \n",
       "DUKI                                   [argentine hip hop, trap argentino]   \n",
       "\n",
       "                         popularity  \\\n",
       "artist                                \n",
       "Travis Scott                     98   \n",
       "Martin Garrix                    88   \n",
       "Los Fabulosos Cadillacs          73   \n",
       "Brockhampton                     85   \n",
       "DUKI                             84   \n",
       "\n",
       "                                                                    albums  \\\n",
       "artist                                                                       \n",
       "Travis Scott             {'2019-12-27': 'JACKBOYS', '2018-11-06': 'NOT ...   \n",
       "Martin Garrix            {'2019-07-10': 'The Martin Garrix Experience',...   \n",
       "Los Fabulosos Cadillacs  {'2017-10-20': 'En Vivo en The Theater at Madi...   \n",
       "Brockhampton             {'2019-08-23': 'GINGER', '2018-09-21': 'irides...   \n",
       "DUKI                     {'2019-11-01': 'Súper Sangre Joven', '2020-01-...   \n",
       "\n",
       "                                                           related_artists  \\\n",
       "artist                                                                       \n",
       "Travis Scott             [A$AP Rocky, Chief Keef, KIDS SEE GHOSTS, Push...   \n",
       "Martin Garrix            [AREA21, Brooks, Deorro, Lucas & Steve, KAAZE,...   \n",
       "Los Fabulosos Cadillacs  [Los Pericos, Vicentico, Aterciopelados, Los A...   \n",
       "Brockhampton             [Kevin Abstract, Matt Champion, JPEGMAFIA, Ame...   \n",
       "DUKI                     [Uriel Natero, Bhavi, KHEA, Lit Killah, Seven ...   \n",
       "\n",
       "                                                            related_genres  \\\n",
       "artist                                                                       \n",
       "Travis Scott             [east coast hip hop, hip hop, pop rap, rap, tr...   \n",
       "Martin Garrix            [big room, edm, big room, deep big room, edm, ...   \n",
       "Los Fabulosos Cadillacs  [argentine reggae, argentine rock, latin alter...   \n",
       "Brockhampton             [alternative r&b, hip hop, lgbtq+ hip hop, rap...   \n",
       "DUKI                     [argentine hip hop, trap argentino, argentine ...   \n",
       "\n",
       "                         day  genre: alternative r&b  genre: alternative rock  \\\n",
       "artist                                                                          \n",
       "Travis Scott               1                       0                        0   \n",
       "Martin Garrix              1                       0                        0   \n",
       "Los Fabulosos Cadillacs    1                       0                        0   \n",
       "Brockhampton               1                       0                        0   \n",
       "DUKI                       1                       0                        0   \n",
       "\n",
       "                         ...  genre: trap argentino  genre: trap chileno  \\\n",
       "artist                   ...                                               \n",
       "Travis Scott             ...                      0                    0   \n",
       "Martin Garrix            ...                      0                    0   \n",
       "Los Fabulosos Cadillacs  ...                      0                    0   \n",
       "Brockhampton             ...                      0                    0   \n",
       "DUKI                     ...                      1                    0   \n",
       "\n",
       "                         genre: trap espanol  genre: trap latino  \\\n",
       "artist                                                             \n",
       "Travis Scott                               0                   0   \n",
       "Martin Garrix                              0                   0   \n",
       "Los Fabulosos Cadillacs                    0                   0   \n",
       "Brockhampton                               0                   0   \n",
       "DUKI                                       0                   0   \n",
       "\n",
       "                         genre: tropical  genre: tropical house  \\\n",
       "artist                                                            \n",
       "Travis Scott                           0                      0   \n",
       "Martin Garrix                          0                      1   \n",
       "Los Fabulosos Cadillacs                0                      0   \n",
       "Brockhampton                           0                      0   \n",
       "DUKI                                   0                      0   \n",
       "\n",
       "                         genre: uk alternative pop  genre: uk pop  \\\n",
       "artist                                                              \n",
       "Travis Scott                                     0              0   \n",
       "Martin Garrix                                    0              0   \n",
       "Los Fabulosos Cadillacs                          0              0   \n",
       "Brockhampton                                     0              0   \n",
       "DUKI                                             0              0   \n",
       "\n",
       "                         genre: underground hip hop  genre: vapor twitch  \n",
       "artist                                                                    \n",
       "Travis Scott                                      0                    0  \n",
       "Martin Garrix                                     0                    0  \n",
       "Los Fabulosos Cadillacs                           0                    0  \n",
       "Brockhampton                                      0                    0  \n",
       "DUKI                                              0                    0  \n",
       "\n",
       "[5 rows x 151 columns]"
      ]
     },
     "execution_count": 80,
     "metadata": {},
     "output_type": "execute_result"
    }
   ],
   "source": [
    "df_artists = df_artists.join(df_genres)\n",
    "df_artists.head()"
   ]
  },
  {
   "cell_type": "markdown",
   "metadata": {},
   "source": [
    "One-hot encode related artists"
   ]
  },
  {
   "cell_type": "code",
   "execution_count": 81,
   "metadata": {},
   "outputs": [],
   "source": [
    "mlb.fit(df_artists['related_artists'])\n",
    "df_related_artists = pd.DataFrame(data=mlb.transform(df_artists['related_artists']), \n",
    "                         columns=['related_artist: {}'.format(related_artist) for related_artist in mlb.classes_],\n",
    "                         index=df_artists.index)"
   ]
  },
  {
   "cell_type": "code",
   "execution_count": 82,
   "metadata": {},
   "outputs": [
    {
     "data": {
      "text/html": [
       "<div>\n",
       "<style scoped>\n",
       "    .dataframe tbody tr th:only-of-type {\n",
       "        vertical-align: middle;\n",
       "    }\n",
       "\n",
       "    .dataframe tbody tr th {\n",
       "        vertical-align: top;\n",
       "    }\n",
       "\n",
       "    .dataframe thead th {\n",
       "        text-align: right;\n",
       "    }\n",
       "</style>\n",
       "<table border=\"1\" class=\"dataframe\">\n",
       "  <thead>\n",
       "    <tr style=\"text-align: right;\">\n",
       "      <th></th>\n",
       "      <th>artist_id</th>\n",
       "      <th>followers</th>\n",
       "      <th>genres</th>\n",
       "      <th>popularity</th>\n",
       "      <th>albums</th>\n",
       "      <th>related_artists</th>\n",
       "      <th>related_genres</th>\n",
       "      <th>day</th>\n",
       "      <th>genre: alternative r&amp;b</th>\n",
       "      <th>genre: alternative rock</th>\n",
       "      <th>...</th>\n",
       "      <th>related_artist: lovelytheband</th>\n",
       "      <th>related_artist: sfam</th>\n",
       "      <th>related_artist: slowthai</th>\n",
       "      <th>related_artist: sumthin sumthin</th>\n",
       "      <th>related_artist: t.A.T.u.</th>\n",
       "      <th>related_artist: thook</th>\n",
       "      <th>related_artist: tobi lou</th>\n",
       "      <th>related_artist: zack villere</th>\n",
       "      <th>related_artist: Árbol</th>\n",
       "      <th>related_artist: Ñejo</th>\n",
       "    </tr>\n",
       "    <tr>\n",
       "      <th>artist</th>\n",
       "      <th></th>\n",
       "      <th></th>\n",
       "      <th></th>\n",
       "      <th></th>\n",
       "      <th></th>\n",
       "      <th></th>\n",
       "      <th></th>\n",
       "      <th></th>\n",
       "      <th></th>\n",
       "      <th></th>\n",
       "      <th></th>\n",
       "      <th></th>\n",
       "      <th></th>\n",
       "      <th></th>\n",
       "      <th></th>\n",
       "      <th></th>\n",
       "      <th></th>\n",
       "      <th></th>\n",
       "      <th></th>\n",
       "      <th></th>\n",
       "      <th></th>\n",
       "    </tr>\n",
       "  </thead>\n",
       "  <tbody>\n",
       "    <tr>\n",
       "      <td>Travis Scott</td>\n",
       "      <td>0Y5tJX1MQlPlqiwlOH1tJY</td>\n",
       "      <td>7697676</td>\n",
       "      <td>[rap]</td>\n",
       "      <td>98</td>\n",
       "      <td>{'2019-12-27': 'JACKBOYS', '2018-11-06': 'NOT ...</td>\n",
       "      <td>[A$AP Rocky, Chief Keef, KIDS SEE GHOSTS, Push...</td>\n",
       "      <td>[east coast hip hop, hip hop, pop rap, rap, tr...</td>\n",
       "      <td>1</td>\n",
       "      <td>0</td>\n",
       "      <td>0</td>\n",
       "      <td>...</td>\n",
       "      <td>0</td>\n",
       "      <td>0</td>\n",
       "      <td>0</td>\n",
       "      <td>0</td>\n",
       "      <td>0</td>\n",
       "      <td>0</td>\n",
       "      <td>0</td>\n",
       "      <td>0</td>\n",
       "      <td>0</td>\n",
       "      <td>0</td>\n",
       "    </tr>\n",
       "    <tr>\n",
       "      <td>Martin Garrix</td>\n",
       "      <td>60d24wfXkVzDSfLS6hyCjZ</td>\n",
       "      <td>12566165</td>\n",
       "      <td>[big room, edm, pop, progressive house, tropic...</td>\n",
       "      <td>88</td>\n",
       "      <td>{'2019-07-10': 'The Martin Garrix Experience',...</td>\n",
       "      <td>[AREA21, Brooks, Deorro, Lucas &amp; Steve, KAAZE,...</td>\n",
       "      <td>[big room, edm, big room, deep big room, edm, ...</td>\n",
       "      <td>1</td>\n",
       "      <td>0</td>\n",
       "      <td>0</td>\n",
       "      <td>...</td>\n",
       "      <td>0</td>\n",
       "      <td>0</td>\n",
       "      <td>0</td>\n",
       "      <td>0</td>\n",
       "      <td>0</td>\n",
       "      <td>0</td>\n",
       "      <td>0</td>\n",
       "      <td>0</td>\n",
       "      <td>0</td>\n",
       "      <td>0</td>\n",
       "    </tr>\n",
       "    <tr>\n",
       "      <td>Los Fabulosos Cadillacs</td>\n",
       "      <td>2FS22haX3FYbyOsUAkuYqZ</td>\n",
       "      <td>1671946</td>\n",
       "      <td>[argentine rock, latin alternative, latin rock...</td>\n",
       "      <td>73</td>\n",
       "      <td>{'2017-10-20': 'En Vivo en The Theater at Madi...</td>\n",
       "      <td>[Los Pericos, Vicentico, Aterciopelados, Los A...</td>\n",
       "      <td>[argentine reggae, argentine rock, latin alter...</td>\n",
       "      <td>1</td>\n",
       "      <td>0</td>\n",
       "      <td>0</td>\n",
       "      <td>...</td>\n",
       "      <td>0</td>\n",
       "      <td>0</td>\n",
       "      <td>0</td>\n",
       "      <td>0</td>\n",
       "      <td>0</td>\n",
       "      <td>0</td>\n",
       "      <td>0</td>\n",
       "      <td>0</td>\n",
       "      <td>0</td>\n",
       "      <td>0</td>\n",
       "    </tr>\n",
       "    <tr>\n",
       "      <td>Brockhampton</td>\n",
       "      <td>1Bl6wpkWCQ4KVgnASpvzzA</td>\n",
       "      <td>1183998</td>\n",
       "      <td>[boy band, hip hop, pop, rap]</td>\n",
       "      <td>85</td>\n",
       "      <td>{'2019-08-23': 'GINGER', '2018-09-21': 'irides...</td>\n",
       "      <td>[Kevin Abstract, Matt Champion, JPEGMAFIA, Ame...</td>\n",
       "      <td>[alternative r&amp;b, hip hop, lgbtq+ hip hop, rap...</td>\n",
       "      <td>1</td>\n",
       "      <td>0</td>\n",
       "      <td>0</td>\n",
       "      <td>...</td>\n",
       "      <td>0</td>\n",
       "      <td>0</td>\n",
       "      <td>1</td>\n",
       "      <td>0</td>\n",
       "      <td>0</td>\n",
       "      <td>0</td>\n",
       "      <td>0</td>\n",
       "      <td>0</td>\n",
       "      <td>0</td>\n",
       "      <td>0</td>\n",
       "    </tr>\n",
       "    <tr>\n",
       "      <td>DUKI</td>\n",
       "      <td>1bAftSH8umNcGZ0uyV7LMg</td>\n",
       "      <td>2712196</td>\n",
       "      <td>[argentine hip hop, trap argentino]</td>\n",
       "      <td>84</td>\n",
       "      <td>{'2019-11-01': 'Súper Sangre Joven', '2020-01-...</td>\n",
       "      <td>[Uriel Natero, Bhavi, KHEA, Lit Killah, Seven ...</td>\n",
       "      <td>[argentine hip hop, trap argentino, argentine ...</td>\n",
       "      <td>1</td>\n",
       "      <td>0</td>\n",
       "      <td>0</td>\n",
       "      <td>...</td>\n",
       "      <td>0</td>\n",
       "      <td>0</td>\n",
       "      <td>0</td>\n",
       "      <td>0</td>\n",
       "      <td>0</td>\n",
       "      <td>0</td>\n",
       "      <td>0</td>\n",
       "      <td>0</td>\n",
       "      <td>0</td>\n",
       "      <td>0</td>\n",
       "    </tr>\n",
       "  </tbody>\n",
       "</table>\n",
       "<p>5 rows × 1480 columns</p>\n",
       "</div>"
      ],
      "text/plain": [
       "                                      artist_id  followers  \\\n",
       "artist                                                       \n",
       "Travis Scott             0Y5tJX1MQlPlqiwlOH1tJY    7697676   \n",
       "Martin Garrix            60d24wfXkVzDSfLS6hyCjZ   12566165   \n",
       "Los Fabulosos Cadillacs  2FS22haX3FYbyOsUAkuYqZ    1671946   \n",
       "Brockhampton             1Bl6wpkWCQ4KVgnASpvzzA    1183998   \n",
       "DUKI                     1bAftSH8umNcGZ0uyV7LMg    2712196   \n",
       "\n",
       "                                                                    genres  \\\n",
       "artist                                                                       \n",
       "Travis Scott                                                         [rap]   \n",
       "Martin Garrix            [big room, edm, pop, progressive house, tropic...   \n",
       "Los Fabulosos Cadillacs  [argentine rock, latin alternative, latin rock...   \n",
       "Brockhampton                                 [boy band, hip hop, pop, rap]   \n",
       "DUKI                                   [argentine hip hop, trap argentino]   \n",
       "\n",
       "                         popularity  \\\n",
       "artist                                \n",
       "Travis Scott                     98   \n",
       "Martin Garrix                    88   \n",
       "Los Fabulosos Cadillacs          73   \n",
       "Brockhampton                     85   \n",
       "DUKI                             84   \n",
       "\n",
       "                                                                    albums  \\\n",
       "artist                                                                       \n",
       "Travis Scott             {'2019-12-27': 'JACKBOYS', '2018-11-06': 'NOT ...   \n",
       "Martin Garrix            {'2019-07-10': 'The Martin Garrix Experience',...   \n",
       "Los Fabulosos Cadillacs  {'2017-10-20': 'En Vivo en The Theater at Madi...   \n",
       "Brockhampton             {'2019-08-23': 'GINGER', '2018-09-21': 'irides...   \n",
       "DUKI                     {'2019-11-01': 'Súper Sangre Joven', '2020-01-...   \n",
       "\n",
       "                                                           related_artists  \\\n",
       "artist                                                                       \n",
       "Travis Scott             [A$AP Rocky, Chief Keef, KIDS SEE GHOSTS, Push...   \n",
       "Martin Garrix            [AREA21, Brooks, Deorro, Lucas & Steve, KAAZE,...   \n",
       "Los Fabulosos Cadillacs  [Los Pericos, Vicentico, Aterciopelados, Los A...   \n",
       "Brockhampton             [Kevin Abstract, Matt Champion, JPEGMAFIA, Ame...   \n",
       "DUKI                     [Uriel Natero, Bhavi, KHEA, Lit Killah, Seven ...   \n",
       "\n",
       "                                                            related_genres  \\\n",
       "artist                                                                       \n",
       "Travis Scott             [east coast hip hop, hip hop, pop rap, rap, tr...   \n",
       "Martin Garrix            [big room, edm, big room, deep big room, edm, ...   \n",
       "Los Fabulosos Cadillacs  [argentine reggae, argentine rock, latin alter...   \n",
       "Brockhampton             [alternative r&b, hip hop, lgbtq+ hip hop, rap...   \n",
       "DUKI                     [argentine hip hop, trap argentino, argentine ...   \n",
       "\n",
       "                         day  genre: alternative r&b  genre: alternative rock  \\\n",
       "artist                                                                          \n",
       "Travis Scott               1                       0                        0   \n",
       "Martin Garrix              1                       0                        0   \n",
       "Los Fabulosos Cadillacs    1                       0                        0   \n",
       "Brockhampton               1                       0                        0   \n",
       "DUKI                       1                       0                        0   \n",
       "\n",
       "                         ...  related_artist: lovelytheband  \\\n",
       "artist                   ...                                  \n",
       "Travis Scott             ...                              0   \n",
       "Martin Garrix            ...                              0   \n",
       "Los Fabulosos Cadillacs  ...                              0   \n",
       "Brockhampton             ...                              0   \n",
       "DUKI                     ...                              0   \n",
       "\n",
       "                         related_artist: sfam  related_artist: slowthai  \\\n",
       "artist                                                                    \n",
       "Travis Scott                                0                         0   \n",
       "Martin Garrix                               0                         0   \n",
       "Los Fabulosos Cadillacs                     0                         0   \n",
       "Brockhampton                                0                         1   \n",
       "DUKI                                        0                         0   \n",
       "\n",
       "                         related_artist: sumthin sumthin  \\\n",
       "artist                                                     \n",
       "Travis Scott                                           0   \n",
       "Martin Garrix                                          0   \n",
       "Los Fabulosos Cadillacs                                0   \n",
       "Brockhampton                                           0   \n",
       "DUKI                                                   0   \n",
       "\n",
       "                         related_artist: t.A.T.u.  related_artist: thook  \\\n",
       "artist                                                                     \n",
       "Travis Scott                                    0                      0   \n",
       "Martin Garrix                                   0                      0   \n",
       "Los Fabulosos Cadillacs                         0                      0   \n",
       "Brockhampton                                    0                      0   \n",
       "DUKI                                            0                      0   \n",
       "\n",
       "                         related_artist: tobi lou  \\\n",
       "artist                                              \n",
       "Travis Scott                                    0   \n",
       "Martin Garrix                                   0   \n",
       "Los Fabulosos Cadillacs                         0   \n",
       "Brockhampton                                    0   \n",
       "DUKI                                            0   \n",
       "\n",
       "                         related_artist: zack villere  related_artist: Árbol  \\\n",
       "artist                                                                         \n",
       "Travis Scott                                        0                      0   \n",
       "Martin Garrix                                       0                      0   \n",
       "Los Fabulosos Cadillacs                             0                      0   \n",
       "Brockhampton                                        0                      0   \n",
       "DUKI                                                0                      0   \n",
       "\n",
       "                         related_artist: Ñejo  \n",
       "artist                                         \n",
       "Travis Scott                                0  \n",
       "Martin Garrix                               0  \n",
       "Los Fabulosos Cadillacs                     0  \n",
       "Brockhampton                                0  \n",
       "DUKI                                        0  \n",
       "\n",
       "[5 rows x 1480 columns]"
      ]
     },
     "execution_count": 82,
     "metadata": {},
     "output_type": "execute_result"
    }
   ],
   "source": [
    "df_artists = df_artists.join(df_related_artists)\n",
    "df_artists.head()"
   ]
  },
  {
   "cell_type": "markdown",
   "metadata": {},
   "source": [
    "Weight related genres"
   ]
  },
  {
   "cell_type": "code",
   "execution_count": 83,
   "metadata": {},
   "outputs": [],
   "source": [
    "df_related_genres = df_artists['related_genres'].apply(lambda x: pd.Series(x).value_counts())\n",
    "df_related_genres.columns = ['related_genre: '+c for c in df_related_genres.columns]\n",
    "df_related_genres.fillna(0, inplace=True)"
   ]
  },
  {
   "cell_type": "code",
   "execution_count": 84,
   "metadata": {},
   "outputs": [
    {
     "data": {
      "text/html": [
       "<div>\n",
       "<style scoped>\n",
       "    .dataframe tbody tr th:only-of-type {\n",
       "        vertical-align: middle;\n",
       "    }\n",
       "\n",
       "    .dataframe tbody tr th {\n",
       "        vertical-align: top;\n",
       "    }\n",
       "\n",
       "    .dataframe thead th {\n",
       "        text-align: right;\n",
       "    }\n",
       "</style>\n",
       "<table border=\"1\" class=\"dataframe\">\n",
       "  <thead>\n",
       "    <tr style=\"text-align: right;\">\n",
       "      <th></th>\n",
       "      <th>artist_id</th>\n",
       "      <th>followers</th>\n",
       "      <th>genres</th>\n",
       "      <th>popularity</th>\n",
       "      <th>albums</th>\n",
       "      <th>related_artists</th>\n",
       "      <th>related_genres</th>\n",
       "      <th>day</th>\n",
       "      <th>genre: alternative r&amp;b</th>\n",
       "      <th>genre: alternative rock</th>\n",
       "      <th>...</th>\n",
       "      <th>related_genre: bboy</th>\n",
       "      <th>related_genre: electro swing</th>\n",
       "      <th>related_genre: minimal tech house</th>\n",
       "      <th>related_genre: south african punk</th>\n",
       "      <th>related_genre: nu disco</th>\n",
       "      <th>related_genre: filter house</th>\n",
       "      <th>related_genre: experimental bass</th>\n",
       "      <th>related_genre: south african electronic</th>\n",
       "      <th>related_genre: nz electronic</th>\n",
       "      <th>related_genre: latincore</th>\n",
       "    </tr>\n",
       "    <tr>\n",
       "      <th>artist</th>\n",
       "      <th></th>\n",
       "      <th></th>\n",
       "      <th></th>\n",
       "      <th></th>\n",
       "      <th></th>\n",
       "      <th></th>\n",
       "      <th></th>\n",
       "      <th></th>\n",
       "      <th></th>\n",
       "      <th></th>\n",
       "      <th></th>\n",
       "      <th></th>\n",
       "      <th></th>\n",
       "      <th></th>\n",
       "      <th></th>\n",
       "      <th></th>\n",
       "      <th></th>\n",
       "      <th></th>\n",
       "      <th></th>\n",
       "      <th></th>\n",
       "      <th></th>\n",
       "    </tr>\n",
       "  </thead>\n",
       "  <tbody>\n",
       "    <tr>\n",
       "      <td>Travis Scott</td>\n",
       "      <td>0Y5tJX1MQlPlqiwlOH1tJY</td>\n",
       "      <td>7697676</td>\n",
       "      <td>[rap]</td>\n",
       "      <td>98</td>\n",
       "      <td>{'2019-12-27': 'JACKBOYS', '2018-11-06': 'NOT ...</td>\n",
       "      <td>[A$AP Rocky, Chief Keef, KIDS SEE GHOSTS, Push...</td>\n",
       "      <td>[east coast hip hop, hip hop, pop rap, rap, tr...</td>\n",
       "      <td>1</td>\n",
       "      <td>0</td>\n",
       "      <td>0</td>\n",
       "      <td>...</td>\n",
       "      <td>0.0</td>\n",
       "      <td>0.0</td>\n",
       "      <td>0.0</td>\n",
       "      <td>0.0</td>\n",
       "      <td>0.0</td>\n",
       "      <td>0.0</td>\n",
       "      <td>0.0</td>\n",
       "      <td>0.0</td>\n",
       "      <td>0.0</td>\n",
       "      <td>0.0</td>\n",
       "    </tr>\n",
       "    <tr>\n",
       "      <td>Martin Garrix</td>\n",
       "      <td>60d24wfXkVzDSfLS6hyCjZ</td>\n",
       "      <td>12566165</td>\n",
       "      <td>[big room, edm, pop, progressive house, tropic...</td>\n",
       "      <td>88</td>\n",
       "      <td>{'2019-07-10': 'The Martin Garrix Experience',...</td>\n",
       "      <td>[AREA21, Brooks, Deorro, Lucas &amp; Steve, KAAZE,...</td>\n",
       "      <td>[big room, edm, big room, deep big room, edm, ...</td>\n",
       "      <td>1</td>\n",
       "      <td>0</td>\n",
       "      <td>0</td>\n",
       "      <td>...</td>\n",
       "      <td>0.0</td>\n",
       "      <td>0.0</td>\n",
       "      <td>0.0</td>\n",
       "      <td>0.0</td>\n",
       "      <td>0.0</td>\n",
       "      <td>0.0</td>\n",
       "      <td>0.0</td>\n",
       "      <td>0.0</td>\n",
       "      <td>0.0</td>\n",
       "      <td>0.0</td>\n",
       "    </tr>\n",
       "    <tr>\n",
       "      <td>Los Fabulosos Cadillacs</td>\n",
       "      <td>2FS22haX3FYbyOsUAkuYqZ</td>\n",
       "      <td>1671946</td>\n",
       "      <td>[argentine rock, latin alternative, latin rock...</td>\n",
       "      <td>73</td>\n",
       "      <td>{'2017-10-20': 'En Vivo en The Theater at Madi...</td>\n",
       "      <td>[Los Pericos, Vicentico, Aterciopelados, Los A...</td>\n",
       "      <td>[argentine reggae, argentine rock, latin alter...</td>\n",
       "      <td>1</td>\n",
       "      <td>0</td>\n",
       "      <td>0</td>\n",
       "      <td>...</td>\n",
       "      <td>0.0</td>\n",
       "      <td>0.0</td>\n",
       "      <td>0.0</td>\n",
       "      <td>0.0</td>\n",
       "      <td>0.0</td>\n",
       "      <td>0.0</td>\n",
       "      <td>0.0</td>\n",
       "      <td>0.0</td>\n",
       "      <td>0.0</td>\n",
       "      <td>0.0</td>\n",
       "    </tr>\n",
       "    <tr>\n",
       "      <td>Brockhampton</td>\n",
       "      <td>1Bl6wpkWCQ4KVgnASpvzzA</td>\n",
       "      <td>1183998</td>\n",
       "      <td>[boy band, hip hop, pop, rap]</td>\n",
       "      <td>85</td>\n",
       "      <td>{'2019-08-23': 'GINGER', '2018-09-21': 'irides...</td>\n",
       "      <td>[Kevin Abstract, Matt Champion, JPEGMAFIA, Ame...</td>\n",
       "      <td>[alternative r&amp;b, hip hop, lgbtq+ hip hop, rap...</td>\n",
       "      <td>1</td>\n",
       "      <td>0</td>\n",
       "      <td>0</td>\n",
       "      <td>...</td>\n",
       "      <td>0.0</td>\n",
       "      <td>0.0</td>\n",
       "      <td>0.0</td>\n",
       "      <td>0.0</td>\n",
       "      <td>0.0</td>\n",
       "      <td>0.0</td>\n",
       "      <td>0.0</td>\n",
       "      <td>0.0</td>\n",
       "      <td>0.0</td>\n",
       "      <td>0.0</td>\n",
       "    </tr>\n",
       "    <tr>\n",
       "      <td>DUKI</td>\n",
       "      <td>1bAftSH8umNcGZ0uyV7LMg</td>\n",
       "      <td>2712196</td>\n",
       "      <td>[argentine hip hop, trap argentino]</td>\n",
       "      <td>84</td>\n",
       "      <td>{'2019-11-01': 'Súper Sangre Joven', '2020-01-...</td>\n",
       "      <td>[Uriel Natero, Bhavi, KHEA, Lit Killah, Seven ...</td>\n",
       "      <td>[argentine hip hop, trap argentino, argentine ...</td>\n",
       "      <td>1</td>\n",
       "      <td>0</td>\n",
       "      <td>0</td>\n",
       "      <td>...</td>\n",
       "      <td>0.0</td>\n",
       "      <td>0.0</td>\n",
       "      <td>0.0</td>\n",
       "      <td>0.0</td>\n",
       "      <td>0.0</td>\n",
       "      <td>0.0</td>\n",
       "      <td>0.0</td>\n",
       "      <td>0.0</td>\n",
       "      <td>0.0</td>\n",
       "      <td>0.0</td>\n",
       "    </tr>\n",
       "  </tbody>\n",
       "</table>\n",
       "<p>5 rows × 2041 columns</p>\n",
       "</div>"
      ],
      "text/plain": [
       "                                      artist_id  followers  \\\n",
       "artist                                                       \n",
       "Travis Scott             0Y5tJX1MQlPlqiwlOH1tJY    7697676   \n",
       "Martin Garrix            60d24wfXkVzDSfLS6hyCjZ   12566165   \n",
       "Los Fabulosos Cadillacs  2FS22haX3FYbyOsUAkuYqZ    1671946   \n",
       "Brockhampton             1Bl6wpkWCQ4KVgnASpvzzA    1183998   \n",
       "DUKI                     1bAftSH8umNcGZ0uyV7LMg    2712196   \n",
       "\n",
       "                                                                    genres  \\\n",
       "artist                                                                       \n",
       "Travis Scott                                                         [rap]   \n",
       "Martin Garrix            [big room, edm, pop, progressive house, tropic...   \n",
       "Los Fabulosos Cadillacs  [argentine rock, latin alternative, latin rock...   \n",
       "Brockhampton                                 [boy band, hip hop, pop, rap]   \n",
       "DUKI                                   [argentine hip hop, trap argentino]   \n",
       "\n",
       "                         popularity  \\\n",
       "artist                                \n",
       "Travis Scott                     98   \n",
       "Martin Garrix                    88   \n",
       "Los Fabulosos Cadillacs          73   \n",
       "Brockhampton                     85   \n",
       "DUKI                             84   \n",
       "\n",
       "                                                                    albums  \\\n",
       "artist                                                                       \n",
       "Travis Scott             {'2019-12-27': 'JACKBOYS', '2018-11-06': 'NOT ...   \n",
       "Martin Garrix            {'2019-07-10': 'The Martin Garrix Experience',...   \n",
       "Los Fabulosos Cadillacs  {'2017-10-20': 'En Vivo en The Theater at Madi...   \n",
       "Brockhampton             {'2019-08-23': 'GINGER', '2018-09-21': 'irides...   \n",
       "DUKI                     {'2019-11-01': 'Súper Sangre Joven', '2020-01-...   \n",
       "\n",
       "                                                           related_artists  \\\n",
       "artist                                                                       \n",
       "Travis Scott             [A$AP Rocky, Chief Keef, KIDS SEE GHOSTS, Push...   \n",
       "Martin Garrix            [AREA21, Brooks, Deorro, Lucas & Steve, KAAZE,...   \n",
       "Los Fabulosos Cadillacs  [Los Pericos, Vicentico, Aterciopelados, Los A...   \n",
       "Brockhampton             [Kevin Abstract, Matt Champion, JPEGMAFIA, Ame...   \n",
       "DUKI                     [Uriel Natero, Bhavi, KHEA, Lit Killah, Seven ...   \n",
       "\n",
       "                                                            related_genres  \\\n",
       "artist                                                                       \n",
       "Travis Scott             [east coast hip hop, hip hop, pop rap, rap, tr...   \n",
       "Martin Garrix            [big room, edm, big room, deep big room, edm, ...   \n",
       "Los Fabulosos Cadillacs  [argentine reggae, argentine rock, latin alter...   \n",
       "Brockhampton             [alternative r&b, hip hop, lgbtq+ hip hop, rap...   \n",
       "DUKI                     [argentine hip hop, trap argentino, argentine ...   \n",
       "\n",
       "                         day  genre: alternative r&b  genre: alternative rock  \\\n",
       "artist                                                                          \n",
       "Travis Scott               1                       0                        0   \n",
       "Martin Garrix              1                       0                        0   \n",
       "Los Fabulosos Cadillacs    1                       0                        0   \n",
       "Brockhampton               1                       0                        0   \n",
       "DUKI                       1                       0                        0   \n",
       "\n",
       "                         ...  related_genre: bboy  \\\n",
       "artist                   ...                        \n",
       "Travis Scott             ...                  0.0   \n",
       "Martin Garrix            ...                  0.0   \n",
       "Los Fabulosos Cadillacs  ...                  0.0   \n",
       "Brockhampton             ...                  0.0   \n",
       "DUKI                     ...                  0.0   \n",
       "\n",
       "                         related_genre: electro swing  \\\n",
       "artist                                                  \n",
       "Travis Scott                                      0.0   \n",
       "Martin Garrix                                     0.0   \n",
       "Los Fabulosos Cadillacs                           0.0   \n",
       "Brockhampton                                      0.0   \n",
       "DUKI                                              0.0   \n",
       "\n",
       "                         related_genre: minimal tech house  \\\n",
       "artist                                                       \n",
       "Travis Scott                                           0.0   \n",
       "Martin Garrix                                          0.0   \n",
       "Los Fabulosos Cadillacs                                0.0   \n",
       "Brockhampton                                           0.0   \n",
       "DUKI                                                   0.0   \n",
       "\n",
       "                         related_genre: south african punk  \\\n",
       "artist                                                       \n",
       "Travis Scott                                           0.0   \n",
       "Martin Garrix                                          0.0   \n",
       "Los Fabulosos Cadillacs                                0.0   \n",
       "Brockhampton                                           0.0   \n",
       "DUKI                                                   0.0   \n",
       "\n",
       "                         related_genre: nu disco  related_genre: filter house  \\\n",
       "artist                                                                          \n",
       "Travis Scott                                 0.0                          0.0   \n",
       "Martin Garrix                                0.0                          0.0   \n",
       "Los Fabulosos Cadillacs                      0.0                          0.0   \n",
       "Brockhampton                                 0.0                          0.0   \n",
       "DUKI                                         0.0                          0.0   \n",
       "\n",
       "                         related_genre: experimental bass  \\\n",
       "artist                                                      \n",
       "Travis Scott                                          0.0   \n",
       "Martin Garrix                                         0.0   \n",
       "Los Fabulosos Cadillacs                               0.0   \n",
       "Brockhampton                                          0.0   \n",
       "DUKI                                                  0.0   \n",
       "\n",
       "                         related_genre: south african electronic  \\\n",
       "artist                                                             \n",
       "Travis Scott                                                 0.0   \n",
       "Martin Garrix                                                0.0   \n",
       "Los Fabulosos Cadillacs                                      0.0   \n",
       "Brockhampton                                                 0.0   \n",
       "DUKI                                                         0.0   \n",
       "\n",
       "                         related_genre: nz electronic  \\\n",
       "artist                                                  \n",
       "Travis Scott                                      0.0   \n",
       "Martin Garrix                                     0.0   \n",
       "Los Fabulosos Cadillacs                           0.0   \n",
       "Brockhampton                                      0.0   \n",
       "DUKI                                              0.0   \n",
       "\n",
       "                         related_genre: latincore  \n",
       "artist                                             \n",
       "Travis Scott                                  0.0  \n",
       "Martin Garrix                                 0.0  \n",
       "Los Fabulosos Cadillacs                       0.0  \n",
       "Brockhampton                                  0.0  \n",
       "DUKI                                          0.0  \n",
       "\n",
       "[5 rows x 2041 columns]"
      ]
     },
     "execution_count": 84,
     "metadata": {},
     "output_type": "execute_result"
    }
   ],
   "source": [
    "df_artists = df_artists.join(df_related_genres)\n",
    "df_artists.head()"
   ]
  },
  {
   "cell_type": "markdown",
   "metadata": {},
   "source": [
    "One-hot encode argentinian artists"
   ]
  },
  {
   "cell_type": "code",
   "execution_count": 85,
   "metadata": {},
   "outputs": [],
   "source": [
    "is_argentinian = pd.read_csv('is_argentinian.csv', index_col='artist')\n",
    "is_argentinian.index = df_artists.index"
   ]
  },
  {
   "cell_type": "code",
   "execution_count": 86,
   "metadata": {
    "scrolled": true
   },
   "outputs": [
    {
     "data": {
      "text/html": [
       "<div>\n",
       "<style scoped>\n",
       "    .dataframe tbody tr th:only-of-type {\n",
       "        vertical-align: middle;\n",
       "    }\n",
       "\n",
       "    .dataframe tbody tr th {\n",
       "        vertical-align: top;\n",
       "    }\n",
       "\n",
       "    .dataframe thead th {\n",
       "        text-align: right;\n",
       "    }\n",
       "</style>\n",
       "<table border=\"1\" class=\"dataframe\">\n",
       "  <thead>\n",
       "    <tr style=\"text-align: right;\">\n",
       "      <th></th>\n",
       "      <th>artist_id</th>\n",
       "      <th>followers</th>\n",
       "      <th>genres</th>\n",
       "      <th>popularity</th>\n",
       "      <th>albums</th>\n",
       "      <th>related_artists</th>\n",
       "      <th>related_genres</th>\n",
       "      <th>day</th>\n",
       "      <th>genre: alternative r&amp;b</th>\n",
       "      <th>genre: alternative rock</th>\n",
       "      <th>...</th>\n",
       "      <th>related_genre: electro swing</th>\n",
       "      <th>related_genre: minimal tech house</th>\n",
       "      <th>related_genre: south african punk</th>\n",
       "      <th>related_genre: nu disco</th>\n",
       "      <th>related_genre: filter house</th>\n",
       "      <th>related_genre: experimental bass</th>\n",
       "      <th>related_genre: south african electronic</th>\n",
       "      <th>related_genre: nz electronic</th>\n",
       "      <th>related_genre: latincore</th>\n",
       "      <th>is_argentinian</th>\n",
       "    </tr>\n",
       "    <tr>\n",
       "      <th>artist</th>\n",
       "      <th></th>\n",
       "      <th></th>\n",
       "      <th></th>\n",
       "      <th></th>\n",
       "      <th></th>\n",
       "      <th></th>\n",
       "      <th></th>\n",
       "      <th></th>\n",
       "      <th></th>\n",
       "      <th></th>\n",
       "      <th></th>\n",
       "      <th></th>\n",
       "      <th></th>\n",
       "      <th></th>\n",
       "      <th></th>\n",
       "      <th></th>\n",
       "      <th></th>\n",
       "      <th></th>\n",
       "      <th></th>\n",
       "      <th></th>\n",
       "      <th></th>\n",
       "    </tr>\n",
       "  </thead>\n",
       "  <tbody>\n",
       "    <tr>\n",
       "      <td>Travis Scott</td>\n",
       "      <td>0Y5tJX1MQlPlqiwlOH1tJY</td>\n",
       "      <td>7697676</td>\n",
       "      <td>[rap]</td>\n",
       "      <td>98</td>\n",
       "      <td>{'2019-12-27': 'JACKBOYS', '2018-11-06': 'NOT ...</td>\n",
       "      <td>[A$AP Rocky, Chief Keef, KIDS SEE GHOSTS, Push...</td>\n",
       "      <td>[east coast hip hop, hip hop, pop rap, rap, tr...</td>\n",
       "      <td>1</td>\n",
       "      <td>0</td>\n",
       "      <td>0</td>\n",
       "      <td>...</td>\n",
       "      <td>0.0</td>\n",
       "      <td>0.0</td>\n",
       "      <td>0.0</td>\n",
       "      <td>0.0</td>\n",
       "      <td>0.0</td>\n",
       "      <td>0.0</td>\n",
       "      <td>0.0</td>\n",
       "      <td>0.0</td>\n",
       "      <td>0.0</td>\n",
       "      <td>0</td>\n",
       "    </tr>\n",
       "    <tr>\n",
       "      <td>Martin Garrix</td>\n",
       "      <td>60d24wfXkVzDSfLS6hyCjZ</td>\n",
       "      <td>12566165</td>\n",
       "      <td>[big room, edm, pop, progressive house, tropic...</td>\n",
       "      <td>88</td>\n",
       "      <td>{'2019-07-10': 'The Martin Garrix Experience',...</td>\n",
       "      <td>[AREA21, Brooks, Deorro, Lucas &amp; Steve, KAAZE,...</td>\n",
       "      <td>[big room, edm, big room, deep big room, edm, ...</td>\n",
       "      <td>1</td>\n",
       "      <td>0</td>\n",
       "      <td>0</td>\n",
       "      <td>...</td>\n",
       "      <td>0.0</td>\n",
       "      <td>0.0</td>\n",
       "      <td>0.0</td>\n",
       "      <td>0.0</td>\n",
       "      <td>0.0</td>\n",
       "      <td>0.0</td>\n",
       "      <td>0.0</td>\n",
       "      <td>0.0</td>\n",
       "      <td>0.0</td>\n",
       "      <td>0</td>\n",
       "    </tr>\n",
       "    <tr>\n",
       "      <td>Los Fabulosos Cadillacs</td>\n",
       "      <td>2FS22haX3FYbyOsUAkuYqZ</td>\n",
       "      <td>1671946</td>\n",
       "      <td>[argentine rock, latin alternative, latin rock...</td>\n",
       "      <td>73</td>\n",
       "      <td>{'2017-10-20': 'En Vivo en The Theater at Madi...</td>\n",
       "      <td>[Los Pericos, Vicentico, Aterciopelados, Los A...</td>\n",
       "      <td>[argentine reggae, argentine rock, latin alter...</td>\n",
       "      <td>1</td>\n",
       "      <td>0</td>\n",
       "      <td>0</td>\n",
       "      <td>...</td>\n",
       "      <td>0.0</td>\n",
       "      <td>0.0</td>\n",
       "      <td>0.0</td>\n",
       "      <td>0.0</td>\n",
       "      <td>0.0</td>\n",
       "      <td>0.0</td>\n",
       "      <td>0.0</td>\n",
       "      <td>0.0</td>\n",
       "      <td>0.0</td>\n",
       "      <td>1</td>\n",
       "    </tr>\n",
       "    <tr>\n",
       "      <td>Brockhampton</td>\n",
       "      <td>1Bl6wpkWCQ4KVgnASpvzzA</td>\n",
       "      <td>1183998</td>\n",
       "      <td>[boy band, hip hop, pop, rap]</td>\n",
       "      <td>85</td>\n",
       "      <td>{'2019-08-23': 'GINGER', '2018-09-21': 'irides...</td>\n",
       "      <td>[Kevin Abstract, Matt Champion, JPEGMAFIA, Ame...</td>\n",
       "      <td>[alternative r&amp;b, hip hop, lgbtq+ hip hop, rap...</td>\n",
       "      <td>1</td>\n",
       "      <td>0</td>\n",
       "      <td>0</td>\n",
       "      <td>...</td>\n",
       "      <td>0.0</td>\n",
       "      <td>0.0</td>\n",
       "      <td>0.0</td>\n",
       "      <td>0.0</td>\n",
       "      <td>0.0</td>\n",
       "      <td>0.0</td>\n",
       "      <td>0.0</td>\n",
       "      <td>0.0</td>\n",
       "      <td>0.0</td>\n",
       "      <td>0</td>\n",
       "    </tr>\n",
       "    <tr>\n",
       "      <td>DUKI</td>\n",
       "      <td>1bAftSH8umNcGZ0uyV7LMg</td>\n",
       "      <td>2712196</td>\n",
       "      <td>[argentine hip hop, trap argentino]</td>\n",
       "      <td>84</td>\n",
       "      <td>{'2019-11-01': 'Súper Sangre Joven', '2020-01-...</td>\n",
       "      <td>[Uriel Natero, Bhavi, KHEA, Lit Killah, Seven ...</td>\n",
       "      <td>[argentine hip hop, trap argentino, argentine ...</td>\n",
       "      <td>1</td>\n",
       "      <td>0</td>\n",
       "      <td>0</td>\n",
       "      <td>...</td>\n",
       "      <td>0.0</td>\n",
       "      <td>0.0</td>\n",
       "      <td>0.0</td>\n",
       "      <td>0.0</td>\n",
       "      <td>0.0</td>\n",
       "      <td>0.0</td>\n",
       "      <td>0.0</td>\n",
       "      <td>0.0</td>\n",
       "      <td>0.0</td>\n",
       "      <td>1</td>\n",
       "    </tr>\n",
       "  </tbody>\n",
       "</table>\n",
       "<p>5 rows × 2042 columns</p>\n",
       "</div>"
      ],
      "text/plain": [
       "                                      artist_id  followers  \\\n",
       "artist                                                       \n",
       "Travis Scott             0Y5tJX1MQlPlqiwlOH1tJY    7697676   \n",
       "Martin Garrix            60d24wfXkVzDSfLS6hyCjZ   12566165   \n",
       "Los Fabulosos Cadillacs  2FS22haX3FYbyOsUAkuYqZ    1671946   \n",
       "Brockhampton             1Bl6wpkWCQ4KVgnASpvzzA    1183998   \n",
       "DUKI                     1bAftSH8umNcGZ0uyV7LMg    2712196   \n",
       "\n",
       "                                                                    genres  \\\n",
       "artist                                                                       \n",
       "Travis Scott                                                         [rap]   \n",
       "Martin Garrix            [big room, edm, pop, progressive house, tropic...   \n",
       "Los Fabulosos Cadillacs  [argentine rock, latin alternative, latin rock...   \n",
       "Brockhampton                                 [boy band, hip hop, pop, rap]   \n",
       "DUKI                                   [argentine hip hop, trap argentino]   \n",
       "\n",
       "                         popularity  \\\n",
       "artist                                \n",
       "Travis Scott                     98   \n",
       "Martin Garrix                    88   \n",
       "Los Fabulosos Cadillacs          73   \n",
       "Brockhampton                     85   \n",
       "DUKI                             84   \n",
       "\n",
       "                                                                    albums  \\\n",
       "artist                                                                       \n",
       "Travis Scott             {'2019-12-27': 'JACKBOYS', '2018-11-06': 'NOT ...   \n",
       "Martin Garrix            {'2019-07-10': 'The Martin Garrix Experience',...   \n",
       "Los Fabulosos Cadillacs  {'2017-10-20': 'En Vivo en The Theater at Madi...   \n",
       "Brockhampton             {'2019-08-23': 'GINGER', '2018-09-21': 'irides...   \n",
       "DUKI                     {'2019-11-01': 'Súper Sangre Joven', '2020-01-...   \n",
       "\n",
       "                                                           related_artists  \\\n",
       "artist                                                                       \n",
       "Travis Scott             [A$AP Rocky, Chief Keef, KIDS SEE GHOSTS, Push...   \n",
       "Martin Garrix            [AREA21, Brooks, Deorro, Lucas & Steve, KAAZE,...   \n",
       "Los Fabulosos Cadillacs  [Los Pericos, Vicentico, Aterciopelados, Los A...   \n",
       "Brockhampton             [Kevin Abstract, Matt Champion, JPEGMAFIA, Ame...   \n",
       "DUKI                     [Uriel Natero, Bhavi, KHEA, Lit Killah, Seven ...   \n",
       "\n",
       "                                                            related_genres  \\\n",
       "artist                                                                       \n",
       "Travis Scott             [east coast hip hop, hip hop, pop rap, rap, tr...   \n",
       "Martin Garrix            [big room, edm, big room, deep big room, edm, ...   \n",
       "Los Fabulosos Cadillacs  [argentine reggae, argentine rock, latin alter...   \n",
       "Brockhampton             [alternative r&b, hip hop, lgbtq+ hip hop, rap...   \n",
       "DUKI                     [argentine hip hop, trap argentino, argentine ...   \n",
       "\n",
       "                         day  genre: alternative r&b  genre: alternative rock  \\\n",
       "artist                                                                          \n",
       "Travis Scott               1                       0                        0   \n",
       "Martin Garrix              1                       0                        0   \n",
       "Los Fabulosos Cadillacs    1                       0                        0   \n",
       "Brockhampton               1                       0                        0   \n",
       "DUKI                       1                       0                        0   \n",
       "\n",
       "                         ...  related_genre: electro swing  \\\n",
       "artist                   ...                                 \n",
       "Travis Scott             ...                           0.0   \n",
       "Martin Garrix            ...                           0.0   \n",
       "Los Fabulosos Cadillacs  ...                           0.0   \n",
       "Brockhampton             ...                           0.0   \n",
       "DUKI                     ...                           0.0   \n",
       "\n",
       "                         related_genre: minimal tech house  \\\n",
       "artist                                                       \n",
       "Travis Scott                                           0.0   \n",
       "Martin Garrix                                          0.0   \n",
       "Los Fabulosos Cadillacs                                0.0   \n",
       "Brockhampton                                           0.0   \n",
       "DUKI                                                   0.0   \n",
       "\n",
       "                         related_genre: south african punk  \\\n",
       "artist                                                       \n",
       "Travis Scott                                           0.0   \n",
       "Martin Garrix                                          0.0   \n",
       "Los Fabulosos Cadillacs                                0.0   \n",
       "Brockhampton                                           0.0   \n",
       "DUKI                                                   0.0   \n",
       "\n",
       "                         related_genre: nu disco  related_genre: filter house  \\\n",
       "artist                                                                          \n",
       "Travis Scott                                 0.0                          0.0   \n",
       "Martin Garrix                                0.0                          0.0   \n",
       "Los Fabulosos Cadillacs                      0.0                          0.0   \n",
       "Brockhampton                                 0.0                          0.0   \n",
       "DUKI                                         0.0                          0.0   \n",
       "\n",
       "                         related_genre: experimental bass  \\\n",
       "artist                                                      \n",
       "Travis Scott                                          0.0   \n",
       "Martin Garrix                                         0.0   \n",
       "Los Fabulosos Cadillacs                               0.0   \n",
       "Brockhampton                                          0.0   \n",
       "DUKI                                                  0.0   \n",
       "\n",
       "                         related_genre: south african electronic  \\\n",
       "artist                                                             \n",
       "Travis Scott                                                 0.0   \n",
       "Martin Garrix                                                0.0   \n",
       "Los Fabulosos Cadillacs                                      0.0   \n",
       "Brockhampton                                                 0.0   \n",
       "DUKI                                                         0.0   \n",
       "\n",
       "                         related_genre: nz electronic  \\\n",
       "artist                                                  \n",
       "Travis Scott                                      0.0   \n",
       "Martin Garrix                                     0.0   \n",
       "Los Fabulosos Cadillacs                           0.0   \n",
       "Brockhampton                                      0.0   \n",
       "DUKI                                              0.0   \n",
       "\n",
       "                         related_genre: latincore  is_argentinian  \n",
       "artist                                                             \n",
       "Travis Scott                                  0.0               0  \n",
       "Martin Garrix                                 0.0               0  \n",
       "Los Fabulosos Cadillacs                       0.0               1  \n",
       "Brockhampton                                  0.0               0  \n",
       "DUKI                                          0.0               1  \n",
       "\n",
       "[5 rows x 2042 columns]"
      ]
     },
     "execution_count": 86,
     "metadata": {},
     "output_type": "execute_result"
    }
   ],
   "source": [
    "df_artists = df_artists.join(is_argentinian)\n",
    "df_artists.head()"
   ]
  },
  {
   "cell_type": "markdown",
   "metadata": {},
   "source": [
    "Year of the first release"
   ]
  },
  {
   "cell_type": "code",
   "execution_count": 88,
   "metadata": {},
   "outputs": [],
   "source": [
    "first_release = lambda x: pd.DatetimeIndex(pd.Series(df_artists.loc[x]['albums']).index).min().year"
   ]
  },
  {
   "cell_type": "code",
   "execution_count": 89,
   "metadata": {},
   "outputs": [
    {
     "data": {
      "text/html": [
       "<div>\n",
       "<style scoped>\n",
       "    .dataframe tbody tr th:only-of-type {\n",
       "        vertical-align: middle;\n",
       "    }\n",
       "\n",
       "    .dataframe tbody tr th {\n",
       "        vertical-align: top;\n",
       "    }\n",
       "\n",
       "    .dataframe thead th {\n",
       "        text-align: right;\n",
       "    }\n",
       "</style>\n",
       "<table border=\"1\" class=\"dataframe\">\n",
       "  <thead>\n",
       "    <tr style=\"text-align: right;\">\n",
       "      <th></th>\n",
       "      <th>artist_id</th>\n",
       "      <th>followers</th>\n",
       "      <th>genres</th>\n",
       "      <th>popularity</th>\n",
       "      <th>albums</th>\n",
       "      <th>related_artists</th>\n",
       "      <th>related_genres</th>\n",
       "      <th>day</th>\n",
       "      <th>genre: alternative r&amp;b</th>\n",
       "      <th>genre: alternative rock</th>\n",
       "      <th>...</th>\n",
       "      <th>related_genre: minimal tech house</th>\n",
       "      <th>related_genre: south african punk</th>\n",
       "      <th>related_genre: nu disco</th>\n",
       "      <th>related_genre: filter house</th>\n",
       "      <th>related_genre: experimental bass</th>\n",
       "      <th>related_genre: south african electronic</th>\n",
       "      <th>related_genre: nz electronic</th>\n",
       "      <th>related_genre: latincore</th>\n",
       "      <th>is_argentinian</th>\n",
       "      <th>first_release</th>\n",
       "    </tr>\n",
       "    <tr>\n",
       "      <th>artist</th>\n",
       "      <th></th>\n",
       "      <th></th>\n",
       "      <th></th>\n",
       "      <th></th>\n",
       "      <th></th>\n",
       "      <th></th>\n",
       "      <th></th>\n",
       "      <th></th>\n",
       "      <th></th>\n",
       "      <th></th>\n",
       "      <th></th>\n",
       "      <th></th>\n",
       "      <th></th>\n",
       "      <th></th>\n",
       "      <th></th>\n",
       "      <th></th>\n",
       "      <th></th>\n",
       "      <th></th>\n",
       "      <th></th>\n",
       "      <th></th>\n",
       "      <th></th>\n",
       "    </tr>\n",
       "  </thead>\n",
       "  <tbody>\n",
       "    <tr>\n",
       "      <td>Travis Scott</td>\n",
       "      <td>0Y5tJX1MQlPlqiwlOH1tJY</td>\n",
       "      <td>7697676</td>\n",
       "      <td>[rap]</td>\n",
       "      <td>98</td>\n",
       "      <td>{'2019-12-27': 'JACKBOYS', '2018-11-06': 'NOT ...</td>\n",
       "      <td>[A$AP Rocky, Chief Keef, KIDS SEE GHOSTS, Push...</td>\n",
       "      <td>[east coast hip hop, hip hop, pop rap, rap, tr...</td>\n",
       "      <td>1</td>\n",
       "      <td>0</td>\n",
       "      <td>0</td>\n",
       "      <td>...</td>\n",
       "      <td>0.0</td>\n",
       "      <td>0.0</td>\n",
       "      <td>0.0</td>\n",
       "      <td>0.0</td>\n",
       "      <td>0.0</td>\n",
       "      <td>0.0</td>\n",
       "      <td>0.0</td>\n",
       "      <td>0.0</td>\n",
       "      <td>0</td>\n",
       "      <td>2012</td>\n",
       "    </tr>\n",
       "    <tr>\n",
       "      <td>Martin Garrix</td>\n",
       "      <td>60d24wfXkVzDSfLS6hyCjZ</td>\n",
       "      <td>12566165</td>\n",
       "      <td>[big room, edm, pop, progressive house, tropic...</td>\n",
       "      <td>88</td>\n",
       "      <td>{'2019-07-10': 'The Martin Garrix Experience',...</td>\n",
       "      <td>[AREA21, Brooks, Deorro, Lucas &amp; Steve, KAAZE,...</td>\n",
       "      <td>[big room, edm, big room, deep big room, edm, ...</td>\n",
       "      <td>1</td>\n",
       "      <td>0</td>\n",
       "      <td>0</td>\n",
       "      <td>...</td>\n",
       "      <td>0.0</td>\n",
       "      <td>0.0</td>\n",
       "      <td>0.0</td>\n",
       "      <td>0.0</td>\n",
       "      <td>0.0</td>\n",
       "      <td>0.0</td>\n",
       "      <td>0.0</td>\n",
       "      <td>0.0</td>\n",
       "      <td>0</td>\n",
       "      <td>2011</td>\n",
       "    </tr>\n",
       "    <tr>\n",
       "      <td>Los Fabulosos Cadillacs</td>\n",
       "      <td>2FS22haX3FYbyOsUAkuYqZ</td>\n",
       "      <td>1671946</td>\n",
       "      <td>[argentine rock, latin alternative, latin rock...</td>\n",
       "      <td>73</td>\n",
       "      <td>{'2017-10-20': 'En Vivo en The Theater at Madi...</td>\n",
       "      <td>[Los Pericos, Vicentico, Aterciopelados, Los A...</td>\n",
       "      <td>[argentine reggae, argentine rock, latin alter...</td>\n",
       "      <td>1</td>\n",
       "      <td>0</td>\n",
       "      <td>0</td>\n",
       "      <td>...</td>\n",
       "      <td>0.0</td>\n",
       "      <td>0.0</td>\n",
       "      <td>0.0</td>\n",
       "      <td>0.0</td>\n",
       "      <td>0.0</td>\n",
       "      <td>0.0</td>\n",
       "      <td>0.0</td>\n",
       "      <td>0.0</td>\n",
       "      <td>1</td>\n",
       "      <td>1986</td>\n",
       "    </tr>\n",
       "    <tr>\n",
       "      <td>Brockhampton</td>\n",
       "      <td>1Bl6wpkWCQ4KVgnASpvzzA</td>\n",
       "      <td>1183998</td>\n",
       "      <td>[boy band, hip hop, pop, rap]</td>\n",
       "      <td>85</td>\n",
       "      <td>{'2019-08-23': 'GINGER', '2018-09-21': 'irides...</td>\n",
       "      <td>[Kevin Abstract, Matt Champion, JPEGMAFIA, Ame...</td>\n",
       "      <td>[alternative r&amp;b, hip hop, lgbtq+ hip hop, rap...</td>\n",
       "      <td>1</td>\n",
       "      <td>0</td>\n",
       "      <td>0</td>\n",
       "      <td>...</td>\n",
       "      <td>0.0</td>\n",
       "      <td>0.0</td>\n",
       "      <td>0.0</td>\n",
       "      <td>0.0</td>\n",
       "      <td>0.0</td>\n",
       "      <td>0.0</td>\n",
       "      <td>0.0</td>\n",
       "      <td>0.0</td>\n",
       "      <td>0</td>\n",
       "      <td>2015</td>\n",
       "    </tr>\n",
       "    <tr>\n",
       "      <td>DUKI</td>\n",
       "      <td>1bAftSH8umNcGZ0uyV7LMg</td>\n",
       "      <td>2712196</td>\n",
       "      <td>[argentine hip hop, trap argentino]</td>\n",
       "      <td>84</td>\n",
       "      <td>{'2019-11-01': 'Súper Sangre Joven', '2020-01-...</td>\n",
       "      <td>[Uriel Natero, Bhavi, KHEA, Lit Killah, Seven ...</td>\n",
       "      <td>[argentine hip hop, trap argentino, argentine ...</td>\n",
       "      <td>1</td>\n",
       "      <td>0</td>\n",
       "      <td>0</td>\n",
       "      <td>...</td>\n",
       "      <td>0.0</td>\n",
       "      <td>0.0</td>\n",
       "      <td>0.0</td>\n",
       "      <td>0.0</td>\n",
       "      <td>0.0</td>\n",
       "      <td>0.0</td>\n",
       "      <td>0.0</td>\n",
       "      <td>0.0</td>\n",
       "      <td>1</td>\n",
       "      <td>2017</td>\n",
       "    </tr>\n",
       "  </tbody>\n",
       "</table>\n",
       "<p>5 rows × 2043 columns</p>\n",
       "</div>"
      ],
      "text/plain": [
       "                                      artist_id  followers  \\\n",
       "artist                                                       \n",
       "Travis Scott             0Y5tJX1MQlPlqiwlOH1tJY    7697676   \n",
       "Martin Garrix            60d24wfXkVzDSfLS6hyCjZ   12566165   \n",
       "Los Fabulosos Cadillacs  2FS22haX3FYbyOsUAkuYqZ    1671946   \n",
       "Brockhampton             1Bl6wpkWCQ4KVgnASpvzzA    1183998   \n",
       "DUKI                     1bAftSH8umNcGZ0uyV7LMg    2712196   \n",
       "\n",
       "                                                                    genres  \\\n",
       "artist                                                                       \n",
       "Travis Scott                                                         [rap]   \n",
       "Martin Garrix            [big room, edm, pop, progressive house, tropic...   \n",
       "Los Fabulosos Cadillacs  [argentine rock, latin alternative, latin rock...   \n",
       "Brockhampton                                 [boy band, hip hop, pop, rap]   \n",
       "DUKI                                   [argentine hip hop, trap argentino]   \n",
       "\n",
       "                         popularity  \\\n",
       "artist                                \n",
       "Travis Scott                     98   \n",
       "Martin Garrix                    88   \n",
       "Los Fabulosos Cadillacs          73   \n",
       "Brockhampton                     85   \n",
       "DUKI                             84   \n",
       "\n",
       "                                                                    albums  \\\n",
       "artist                                                                       \n",
       "Travis Scott             {'2019-12-27': 'JACKBOYS', '2018-11-06': 'NOT ...   \n",
       "Martin Garrix            {'2019-07-10': 'The Martin Garrix Experience',...   \n",
       "Los Fabulosos Cadillacs  {'2017-10-20': 'En Vivo en The Theater at Madi...   \n",
       "Brockhampton             {'2019-08-23': 'GINGER', '2018-09-21': 'irides...   \n",
       "DUKI                     {'2019-11-01': 'Súper Sangre Joven', '2020-01-...   \n",
       "\n",
       "                                                           related_artists  \\\n",
       "artist                                                                       \n",
       "Travis Scott             [A$AP Rocky, Chief Keef, KIDS SEE GHOSTS, Push...   \n",
       "Martin Garrix            [AREA21, Brooks, Deorro, Lucas & Steve, KAAZE,...   \n",
       "Los Fabulosos Cadillacs  [Los Pericos, Vicentico, Aterciopelados, Los A...   \n",
       "Brockhampton             [Kevin Abstract, Matt Champion, JPEGMAFIA, Ame...   \n",
       "DUKI                     [Uriel Natero, Bhavi, KHEA, Lit Killah, Seven ...   \n",
       "\n",
       "                                                            related_genres  \\\n",
       "artist                                                                       \n",
       "Travis Scott             [east coast hip hop, hip hop, pop rap, rap, tr...   \n",
       "Martin Garrix            [big room, edm, big room, deep big room, edm, ...   \n",
       "Los Fabulosos Cadillacs  [argentine reggae, argentine rock, latin alter...   \n",
       "Brockhampton             [alternative r&b, hip hop, lgbtq+ hip hop, rap...   \n",
       "DUKI                     [argentine hip hop, trap argentino, argentine ...   \n",
       "\n",
       "                         day  genre: alternative r&b  genre: alternative rock  \\\n",
       "artist                                                                          \n",
       "Travis Scott               1                       0                        0   \n",
       "Martin Garrix              1                       0                        0   \n",
       "Los Fabulosos Cadillacs    1                       0                        0   \n",
       "Brockhampton               1                       0                        0   \n",
       "DUKI                       1                       0                        0   \n",
       "\n",
       "                         ...  related_genre: minimal tech house  \\\n",
       "artist                   ...                                      \n",
       "Travis Scott             ...                                0.0   \n",
       "Martin Garrix            ...                                0.0   \n",
       "Los Fabulosos Cadillacs  ...                                0.0   \n",
       "Brockhampton             ...                                0.0   \n",
       "DUKI                     ...                                0.0   \n",
       "\n",
       "                         related_genre: south african punk  \\\n",
       "artist                                                       \n",
       "Travis Scott                                           0.0   \n",
       "Martin Garrix                                          0.0   \n",
       "Los Fabulosos Cadillacs                                0.0   \n",
       "Brockhampton                                           0.0   \n",
       "DUKI                                                   0.0   \n",
       "\n",
       "                         related_genre: nu disco  related_genre: filter house  \\\n",
       "artist                                                                          \n",
       "Travis Scott                                 0.0                          0.0   \n",
       "Martin Garrix                                0.0                          0.0   \n",
       "Los Fabulosos Cadillacs                      0.0                          0.0   \n",
       "Brockhampton                                 0.0                          0.0   \n",
       "DUKI                                         0.0                          0.0   \n",
       "\n",
       "                         related_genre: experimental bass  \\\n",
       "artist                                                      \n",
       "Travis Scott                                          0.0   \n",
       "Martin Garrix                                         0.0   \n",
       "Los Fabulosos Cadillacs                               0.0   \n",
       "Brockhampton                                          0.0   \n",
       "DUKI                                                  0.0   \n",
       "\n",
       "                         related_genre: south african electronic  \\\n",
       "artist                                                             \n",
       "Travis Scott                                                 0.0   \n",
       "Martin Garrix                                                0.0   \n",
       "Los Fabulosos Cadillacs                                      0.0   \n",
       "Brockhampton                                                 0.0   \n",
       "DUKI                                                         0.0   \n",
       "\n",
       "                         related_genre: nz electronic  \\\n",
       "artist                                                  \n",
       "Travis Scott                                      0.0   \n",
       "Martin Garrix                                     0.0   \n",
       "Los Fabulosos Cadillacs                           0.0   \n",
       "Brockhampton                                      0.0   \n",
       "DUKI                                              0.0   \n",
       "\n",
       "                         related_genre: latincore  is_argentinian  \\\n",
       "artist                                                              \n",
       "Travis Scott                                  0.0               0   \n",
       "Martin Garrix                                 0.0               0   \n",
       "Los Fabulosos Cadillacs                       0.0               1   \n",
       "Brockhampton                                  0.0               0   \n",
       "DUKI                                          0.0               1   \n",
       "\n",
       "                         first_release  \n",
       "artist                                  \n",
       "Travis Scott                      2012  \n",
       "Martin Garrix                     2011  \n",
       "Los Fabulosos Cadillacs           1986  \n",
       "Brockhampton                      2015  \n",
       "DUKI                              2017  \n",
       "\n",
       "[5 rows x 2043 columns]"
      ]
     },
     "execution_count": 89,
     "metadata": {},
     "output_type": "execute_result"
    }
   ],
   "source": [
    "df_artists['first_release'] = df_artists.index.map(first_release)\n",
    "df_artists.head()"
   ]
  },
  {
   "cell_type": "markdown",
   "metadata": {},
   "source": [
    "---"
   ]
  },
  {
   "cell_type": "markdown",
   "metadata": {},
   "source": [
    "## Exploratory Data Analysis"
   ]
  },
  {
   "cell_type": "markdown",
   "metadata": {},
   "source": [
    "Quantity of artists per day"
   ]
  },
  {
   "cell_type": "code",
   "execution_count": 90,
   "metadata": {},
   "outputs": [
    {
     "data": {
      "text/plain": [
       "day\n",
       "1    32\n",
       "2    31\n",
       "3    28\n",
       "Name: artist_id, dtype: int64"
      ]
     },
     "execution_count": 90,
     "metadata": {},
     "output_type": "execute_result"
    }
   ],
   "source": [
    "df_artists.groupby('day')['artist_id'].count()"
   ]
  },
  {
   "cell_type": "markdown",
   "metadata": {},
   "source": [
    "Proportion of argentinian artists per day"
   ]
  },
  {
   "cell_type": "code",
   "execution_count": 91,
   "metadata": {},
   "outputs": [
    {
     "data": {
      "text/plain": [
       "day\n",
       "1    0.41\n",
       "2    0.35\n",
       "3    0.29\n",
       "Name: is_argentinian, dtype: float64"
      ]
     },
     "execution_count": 91,
     "metadata": {},
     "output_type": "execute_result"
    }
   ],
   "source": [
    "df_artists.groupby('day')['is_argentinian'].mean().round(2)"
   ]
  },
  {
   "cell_type": "markdown",
   "metadata": {},
   "source": [
    "Followers distribution"
   ]
  },
  {
   "cell_type": "code",
   "execution_count": 92,
   "metadata": {},
   "outputs": [
    {
     "data": {
      "image/png": "[encoded data removed]",
      "text/plain": [
       "<Figure size 432x288 with 1 Axes>"
      ]
     },
     "metadata": {
      "needs_background": "light"
     },
     "output_type": "display_data"
    }
   ],
   "source": [
    "df_artists['followers'].plot(kind='hist');"
   ]
  },
  {
   "cell_type": "markdown",
   "metadata": {},
   "source": [
    "First release distribution"
   ]
  },
  {
   "cell_type": "code",
   "execution_count": 93,
   "metadata": {},
   "outputs": [
    {
     "data": {
      "image/png": "[encoded data removed]",
      "text/plain": [
       "<Figure size 432x288 with 1 Axes>"
      ]
     },
     "metadata": {
      "needs_background": "light"
     },
     "output_type": "display_data"
    }
   ],
   "source": [
    "df_artists['first_release'].plot(kind='hist');"
   ]
  },
  {
   "cell_type": "markdown",
   "metadata": {},
   "source": [
    "Genres distribution per day - not exclusive categories"
   ]
  },
  {
   "cell_type": "code",
   "execution_count": 94,
   "metadata": {},
   "outputs": [
    {
     "data": {
      "text/plain": [
       "genre: argentine indie    0.15625\n",
       "genre: edm                0.12500\n",
       "genre: pop                0.12500\n",
       "genre: trap espanol       0.09375\n",
       "genre: latin rock         0.09375\n",
       "dtype: float64"
      ]
     },
     "execution_count": 94,
     "metadata": {},
     "output_type": "execute_result"
    }
   ],
   "source": [
    "# Day 1\n",
    "df_artists.loc[df_artists['day'] == 1, [c for c in df_artists.columns if 'genre:' in c and 'related_' not in c]].mean()\\\n",
    "          .sort_values(ascending=False).head()"
   ]
  },
  {
   "cell_type": "code",
   "execution_count": 95,
   "metadata": {},
   "outputs": [
    {
     "data": {
      "text/plain": [
       "genre: pop                0.258065\n",
       "genre: argentine indie    0.225806\n",
       "genre: latin rock         0.193548\n",
       "genre: rock nacional      0.161290\n",
       "genre: argentine rock     0.161290\n",
       "dtype: float64"
      ]
     },
     "execution_count": 95,
     "metadata": {},
     "output_type": "execute_result"
    }
   ],
   "source": [
    "# Day 2\n",
    "df_artists.loc[df_artists['day'] == 2, [c for c in df_artists.columns if 'genre:' in c and 'related_' not in c]].mean()\\\n",
    "          .sort_values(ascending=False).head()"
   ]
  },
  {
   "cell_type": "code",
   "execution_count": 96,
   "metadata": {},
   "outputs": [
    {
     "data": {
      "text/plain": [
       "genre: pop                0.178571\n",
       "genre: electro house      0.142857\n",
       "genre: argentine indie    0.142857\n",
       "genre: cumbia pop         0.142857\n",
       "genre: manso indie        0.107143\n",
       "dtype: float64"
      ]
     },
     "execution_count": 96,
     "metadata": {},
     "output_type": "execute_result"
    }
   ],
   "source": [
    "# Day 3\n",
    "df_artists.loc[df_artists['day'] == 3, [c for c in df_artists.columns if 'genre:' in c and 'related_' not in c]].mean()\\\n",
    "          .sort_values(ascending=False).head()"
   ]
  },
  {
   "cell_type": "markdown",
   "metadata": {},
   "source": [
    "---"
   ]
  },
  {
   "cell_type": "markdown",
   "metadata": {},
   "source": [
    "## Artist Clustering"
   ]
  },
  {
   "cell_type": "code",
   "execution_count": 158,
   "metadata": {},
   "outputs": [],
   "source": [
    "rel_genres_cols = [rel_genre for rel_genre in df_artists.columns if 'related_genre:' in rel_genre]\n",
    "rel_artist_cols = [rel_artist for rel_artist in df_artists.columns if 'related_artist:' in rel_artist]\n",
    "cluster_data = df_artists.drop(['artist_id', 'followers', 'popularity', 'albums',\n",
    "                                'genres', 'related_artists', 'related_genres', 'day',\n",
    "                                'first_release']+ rel_artist_cols, axis=1)"
   ]
  },
  {
   "cell_type": "code",
   "execution_count": 159,
   "metadata": {},
   "outputs": [
    {
     "data": {
      "text/plain": [
       "(91, 705)"
      ]
     },
     "execution_count": 159,
     "metadata": {},
     "output_type": "execute_result"
    }
   ],
   "source": [
    "cluster_data.shape"
   ]
  },
  {
   "cell_type": "code",
   "execution_count": 160,
   "metadata": {},
   "outputs": [],
   "source": [
    "from sklearn.preprocessing import Normalizer\n",
    "scaler = StandardScaler()\n",
    "normalizer = Normalizer()\n",
    "\n",
    "cluster_data_std = scaler.fit_transform(cluster_data)\n",
    "cluster_data_l2 = normalizer.fit_transform(cluster_data)"
   ]
  },
  {
   "cell_type": "code",
   "execution_count": 161,
   "metadata": {},
   "outputs": [],
   "source": [
    "dist =  1 - cosine_similarity(cluster_data_l2)"
   ]
  },
  {
   "cell_type": "code",
   "execution_count": 162,
   "metadata": {},
   "outputs": [
    {
     "data": {
      "image/png": "[encoded data removed]",
      "text/plain": [
       "<Figure size 1440x720 with 1 Axes>"
      ]
     },
     "metadata": {
      "needs_background": "light"
     },
     "output_type": "display_data"
    }
   ],
   "source": [
    "linkage_matrix = ward(dist)\n",
    "plt.figure(figsize=(20,10))\n",
    "dendrogram(linkage_matrix, orientation = 'left', labels = df_artists.index)\n",
    "plt.savefig('dendrogram.svg');"
   ]
  },
  {
   "cell_type": "code",
   "execution_count": 163,
   "metadata": {},
   "outputs": [],
   "source": [
    "from sklearn.cluster import AgglomerativeClustering "
   ]
  },
  {
   "cell_type": "code",
   "execution_count": 176,
   "metadata": {},
   "outputs": [
    {
     "data": {
      "text/plain": [
       "AgglomerativeClustering(affinity='euclidean', compute_full_tree='auto',\n",
       "                        connectivity=None, distance_threshold=None,\n",
       "                        linkage='average', memory=None, n_clusters=15,\n",
       "                        pooling_func='deprecated')"
      ]
     },
     "execution_count": 176,
     "metadata": {},
     "output_type": "execute_result"
    }
   ],
   "source": [
    "aggcluster = AgglomerativeClustering(n_clusters=15, linkage='average')\n",
    "aggcluster.fit(cluster_data_std)"
   ]
  },
  {
   "cell_type": "code",
   "execution_count": 177,
   "metadata": {},
   "outputs": [
    {
     "name": "stdout",
     "output_type": "stream",
     "text": [
      "Cluster  0\n",
      "Index(['Travis Scott', 'Martin Garrix', 'Los Fabulosos Cadillacs',\n",
      "       'Brockhampton', 'DUKI', 'Madeon', 'Rita Ora', 'King Princess', 'WOS',\n",
      "       'Yungblud', 'Nathy Peluso', 'J mena', 'AJR', 'Louta', 'Two Feet',\n",
      "       'Bizarrap', 'La Delio Valdez', 'Dani', 'Kaydy Cain', 'Boombox Cartel',\n",
      "       'Cimafunk', 'Ms Nina', 'Feli Colina', 'Axel Fiks', 'Lucia Tacchetti',\n",
      "       'DJ Sky', 'Alejo y Valentin', 'The Strokes', 'Gwen Stefani',\n",
      "       'Armin Van Buuren', 'Ratones Paranoicos', 'ILLENIUM', 'Kacey Musgraves',\n",
      "       'Litto Nebbia', 'Charli XCX', 'Jaden Smith', 'R3HAB', 'Hayley Kiyoko',\n",
      "       'El Mató a un Policía Motorizado', 'Rels B', 'Emmanuel Horvilleur',\n",
      "       'Kali Uchis', 'Paloma Mami', 'Fabiana Cantilo', 'Trueno', 'Amaia',\n",
      "       'Wallows', 'Yung Beef', 'Zoe Gotusso', 'Girl Ultra',\n",
      "       'Las Ligas Menores', 'Ainda', 'Ghetto Kids', 'D3FAI', 'Paco Leiva',\n",
      "       'LIMON', 'Louly', 'Lana del Rey', 'Cage the Elephant', 'Alan Walker',\n",
      "       'Rezz', 'Rex Orange County', 'MIKA', 'Airbag', 'Lauv', 'YSY A',\n",
      "       'Pabllo Vittar', 'San Holo', 'Emilia', 'Masego', 'Elsa y Elmar',\n",
      "       'Natalie Perez', 'Florian', 'Miranda Johansen', 'DABOW',\n",
      "       'El Buen Salvaje', 'Reydel'],\n",
      "      dtype='object', name='artist')\n",
      "Cluster  1\n",
      "Index(['The Hu'], dtype='object', name='artist')\n",
      "Cluster  2\n",
      "Index(['Goldfish'], dtype='object', name='artist')\n",
      "Cluster  3\n",
      "Index(['Idles'], dtype='object', name='artist')\n",
      "Cluster  4\n",
      "Index(['James Blake'], dtype='object', name='artist')\n",
      "Cluster  5\n",
      "Index(['Chris Lake'], dtype='object', name='artist')\n",
      "Cluster  6\n",
      "Index(['Perry Farrell’s Kind Heaven Orchestra'], dtype='object', name='artist')\n",
      "Cluster  7\n",
      "Index(['Guns N’ Roses'], dtype='object', name='artist')\n",
      "Cluster  8\n",
      "Index(['The Lumineers'], dtype='object', name='artist')\n",
      "Cluster  9\n",
      "Index(['LP'], dtype='object', name='artist')\n",
      "Cluster  10\n",
      "Index(['Vampire Weekend'], dtype='object', name='artist')\n",
      "Cluster  11\n",
      "Index(['A Day to Remember'], dtype='object', name='artist')\n",
      "Cluster  12\n",
      "Index(['Maye'], dtype='object', name='artist')\n",
      "Cluster  13\n",
      "Index(['Denzel Curry'], dtype='object', name='artist')\n",
      "Cluster  14\n",
      "Index(['Fuego'], dtype='object', name='artist')\n"
     ]
    }
   ],
   "source": [
    "for i in range(aggcluster.n_clusters_):\n",
    "    print('Cluster ', i)\n",
    "    print(df_artists.index[aggcluster.labels_ == i])"
   ]
  },
  {
   "cell_type": "markdown",
   "metadata": {},
   "source": [
    "## Viz"
   ]
  },
  {
   "cell_type": "code",
   "execution_count": 178,
   "metadata": {},
   "outputs": [],
   "source": [
    "import plotly.graph_objects as go"
   ]
  },
  {
   "cell_type": "code",
   "execution_count": 179,
   "metadata": {},
   "outputs": [],
   "source": [
    "from sklearn.manifold import TSNE"
   ]
  },
  {
   "cell_type": "code",
   "execution_count": 180,
   "metadata": {},
   "outputs": [],
   "source": [
    "tsne = TSNE()\n",
    "tsne_plot = tsne.fit_transform(cluster_data_l2)"
   ]
  },
  {
   "cell_type": "code",
   "execution_count": 200,
   "metadata": {},
   "outputs": [
    {
     "data": {
      "text/plain": [
       "DBSCAN(algorithm='auto', eps=10, leaf_size=30, metric='euclidean',\n",
       "       metric_params=None, min_samples=3, n_jobs=None, p=None)"
      ]
     },
     "execution_count": 200,
     "metadata": {},
     "output_type": "execute_result"
    }
   ],
   "source": [
    "from sklearn.cluster import DBSCAN\n",
    "dbscan = DBSCAN(eps=10, min_samples=3)\n",
    "dbscan.fit(tsne_plot)"
   ]
  },
  {
   "cell_type": "code",
   "execution_count": 201,
   "metadata": {},
   "outputs": [
    {
     "data": {
      "application/vnd.plotly.v1+json": {
       "config": {
        "plotlyServerURL": "https://plot.ly"
       },
       "data": [
        {
         "hovertext": [
          "Travis Scott",
          "Martin Garrix",
          "Los Fabulosos Cadillacs",
          "Brockhampton",
          "DUKI",
          "Madeon",
          "Rita Ora",
          "A Day to Remember",
          "King Princess",
          "LP",
          "WOS",
          "Denzel Curry",
          "Yungblud",
          "Nathy Peluso",
          "J mena",
          "AJR",
          "Louta",
          "Two Feet",
          "Bizarrap",
          "Fuego",
          "La Delio Valdez",
          "Dani",
          "Kaydy Cain",
          "Maye",
          "Boombox Cartel",
          "Cimafunk",
          "Ms Nina",
          "Feli Colina",
          "Axel Fiks",
          "Lucia Tacchetti",
          "DJ Sky",
          "Alejo y Valentin",
          "The Strokes",
          "Gwen Stefani",
          "Armin Van Buuren",
          "Vampire Weekend",
          "Ratones Paranoicos",
          "ILLENIUM",
          "Kacey Musgraves",
          "Litto Nebbia",
          "Charli XCX",
          "Jaden Smith",
          "R3HAB",
          "Hayley Kiyoko",
          "El Mató a un Policía Motorizado",
          "Rels B",
          "Emmanuel Horvilleur",
          "Kali Uchis",
          "Paloma Mami",
          "Fabiana Cantilo",
          "Trueno",
          "Amaia",
          "Wallows",
          "Yung Beef",
          "Zoe Gotusso",
          "Girl Ultra",
          "Las Ligas Menores",
          "Ainda",
          "Ghetto Kids",
          "D3FAI",
          "Paco Leiva",
          "LIMON",
          "Louly",
          "Guns N’ Roses",
          "Lana del Rey",
          "Cage the Elephant",
          "James Blake",
          "Alan Walker",
          "Rezz",
          "The Lumineers",
          "Rex Orange County",
          "MIKA",
          "Perry Farrell’s Kind Heaven Orchestra",
          "Airbag",
          "Lauv",
          "YSY A",
          "Chris Lake",
          "Pabllo Vittar",
          "San Holo",
          "Emilia",
          "Idles",
          "Masego",
          "The Hu",
          "Elsa y Elmar",
          "Natalie Perez",
          "Goldfish",
          "Florian",
          "Miranda Johansen",
          "DABOW",
          "El Buen Salvaje",
          "Reydel"
         ],
         "marker": {
          "color": [
           0,
           1,
           2,
           0,
           3,
           1,
           4,
           -1,
           4,
           5,
           3,
           0,
           5,
           6,
           7,
           5,
           2,
           5,
           3,
           6,
           2,
           3,
           6,
           5,
           1,
           6,
           6,
           2,
           2,
           2,
           -1,
           2,
           5,
           4,
           1,
           5,
           2,
           1,
           4,
           2,
           4,
           0,
           1,
           4,
           2,
           6,
           2,
           4,
           6,
           2,
           3,
           7,
           5,
           6,
           2,
           -1,
           2,
           2,
           6,
           1,
           2,
           2,
           3,
           5,
           4,
           5,
           4,
           1,
           1,
           5,
           5,
           4,
           5,
           2,
           4,
           3,
           1,
           -1,
           1,
           7,
           5,
           4,
           5,
           -1,
           7,
           1,
           2,
           2,
           1,
           2,
           7
          ]
         },
         "mode": "markers",
         "type": "scatter",
         "x": [
          -26.09530258178711,
          4.2302985191345215,
          28.717613220214844,
          -20.54134750366211,
          7.406829357147217,
          9.163633346557617,
          -42.30656051635742,
          -73.71353149414062,
          -35.53357696533203,
          -38.525535583496094,
          19.82601547241211,
          -15.127677917480469,
          -31.08820343017578,
          3.5300090312957764,
          43.35059356689453,
          -30.10049819946289,
          48.27371597290039,
          -30.48189926147461,
          11.858302116394043,
          5.772931098937988,
          38.398502349853516,
          10.344661712646484,
          4.178023338317871,
          -15.110124588012695,
          12.841513633728027,
          12.715874671936035,
          -0.367030531167984,
          65.66419219970703,
          59.69518280029297,
          71.25727081298828,
          22.690547943115234,
          54.969886779785156,
          -18.570934295654297,
          -40.22686767578125,
          1.2150421142578125,
          -21.041629791259766,
          31.38802719116211,
          22.676923751831055,
          -47.64449691772461,
          33.910518646240234,
          -25.21038818359375,
          -20.481428146362305,
          8.85729694366455,
          -30.354286193847656,
          45.86626052856445,
          9.411805152893066,
          38.85991287231445,
          -17.805614471435547,
          17.377578735351562,
          28.177997589111328,
          16.81510353088379,
          38.75508117675781,
          -22.257217407226562,
          8.83171558380127,
          57.177555084228516,
          25.839553833007812,
          47.67245864868164,
          63.26509475708008,
          3.4167580604553223,
          10.393991470336914,
          70.72863006591797,
          62.078086853027344,
          4.725201606750488,
          -15.546372413635254,
          -30.864444732666016,
          -23.304786682128906,
          -14.29041862487793,
          -1.0805679559707642,
          14.871166229248047,
          -41.17788314819336,
          -20.668243408203125,
          -35.12921905517578,
          -20.70649528503418,
          24.35028839111328,
          -38.7151985168457,
          14.096174240112305,
          15.87143325805664,
          18.625946044921875,
          18.84572982788086,
          43.30181884765625,
          -13.47822380065918,
          -13.936001777648926,
          -9.90924072265625,
          29.746694564819336,
          49.214412689208984,
          -2.5570263862609863,
          55.32086944580078,
          54.81304931640625,
          12.688457489013672,
          65.03437042236328,
          49.788795471191406
         ],
         "y": [
          -28.283035278320312,
          21.08416175842285,
          0.04698287695646286,
          -32.44731521606445,
          -40.51933670043945,
          31.264591217041016,
          -6.939603805541992,
          28.080068588256836,
          5.346390724182129,
          18.558521270751953,
          -43.33729553222656,
          -29.681203842163086,
          31.11890411376953,
          -17.340120315551758,
          -20.209333419799805,
          18.466459274291992,
          5.16770601272583,
          25.546005249023438,
          -45.55282211303711,
          -3.4067437648773193,
          2.9200057983398438,
          -52.25432586669922,
          -25.949922561645508,
          11.044147491455078,
          39.069114685058594,
          -1.1605010032653809,
          -21.0761775970459,
          7.121636867523193,
          6.448993682861328,
          12.246772766113281,
          -25.17194938659668,
          18.939912796020508,
          33.859432220458984,
          -12.74225902557373,
          28.52889633178711,
          25.72783660888672,
          7.002420425415039,
          35.740718841552734,
          0.8809230327606201,
          14.923091888427734,
          -3.796485185623169,
          -26.549270629882812,
          20.494461059570312,
          3.6988162994384766,
          11.523780822753906,
          -16.506967544555664,
          9.685466766357422,
          -9.524999618530273,
          -4.237820148468018,
          12.104045867919922,
          -49.68603515625,
          -30.597814559936523,
          15.38769245147705,
          -23.04978370666504,
          -3.832843065261841,
          -12.416722297668457,
          -1.3168842792510986,
          0.19407518208026886,
          -8.821300506591797,
          13.556204795837402,
          2.2792859077453613,
          13.3809232711792,
          -47.26762008666992,
          45.19742965698242,
          -2.873292922973633,
          32.48824691772461,
          -3.133396863937378,
          15.630596160888672,
          33.06717300415039,
          22.89352798461914,
          9.838101387023926,
          -10.050374984741211,
          41.814266204833984,
          6.68711519241333,
          -0.986531674861908,
          -39.42280197143555,
          25.102092742919922,
          75.76761627197266,
          40.062198638916016,
          -25.685211181640625,
          26.36749839782715,
          -12.671738624572754,
          48.65021896362305,
          -10.256239891052246,
          -19.123533248901367,
          8.661608695983887,
          2.3301098346710205,
          10.7506685256958,
          46.00143814086914,
          -9.870115280151367,
          -12.619864463806152
         ]
        }
       ],
       "layout": {
        "template": {
         "data": {
          "bar": [
           {
            "error_x": {
             "color": "#2a3f5f"
            },
            "error_y": {
             "color": "#2a3f5f"
            },
            "marker": {
             "line": {
              "color": "#E5ECF6",
              "width": 0.5
             }
            },
            "type": "bar"
           }
          ],
          "barpolar": [
           {
            "marker": {
             "line": {
              "color": "#E5ECF6",
              "width": 0.5
             }
            },
            "type": "barpolar"
           }
          ],
          "carpet": [
           {
            "aaxis": {
             "endlinecolor": "#2a3f5f",
             "gridcolor": "white",
             "linecolor": "white",
             "minorgridcolor": "white",
             "startlinecolor": "#2a3f5f"
            },
            "baxis": {
             "endlinecolor": "#2a3f5f",
             "gridcolor": "white",
             "linecolor": "white",
             "minorgridcolor": "white",
             "startlinecolor": "#2a3f5f"
            },
            "type": "carpet"
           }
          ],
          "choropleth": [
           {
            "colorbar": {
             "outlinewidth": 0,
             "ticks": ""
            },
            "type": "choropleth"
           }
          ],
          "contour": [
           {
            "colorbar": {
             "outlinewidth": 0,
             "ticks": ""
            },
            "colorscale": [
             [
              0,
              "#0d0887"
             ],
             [
              0.1111111111111111,
              "#46039f"
             ],
             [
              0.2222222222222222,
              "#7201a8"
             ],
             [
              0.3333333333333333,
              "#9c179e"
             ],
             [
              0.4444444444444444,
              "#bd3786"
             ],
             [
              0.5555555555555556,
              "#d8576b"
             ],
             [
              0.6666666666666666,
              "#ed7953"
             ],
             [
              0.7777777777777778,
              "#fb9f3a"
             ],
             [
              0.8888888888888888,
              "#fdca26"
             ],
             [
              1,
              "#f0f921"
             ]
            ],
            "type": "contour"
           }
          ],
          "contourcarpet": [
           {
            "colorbar": {
             "outlinewidth": 0,
             "ticks": ""
            },
            "type": "contourcarpet"
           }
          ],
          "heatmap": [
           {
            "colorbar": {
             "outlinewidth": 0,
             "ticks": ""
            },
            "colorscale": [
             [
              0,
              "#0d0887"
             ],
             [
              0.1111111111111111,
              "#46039f"
             ],
             [
              0.2222222222222222,
              "#7201a8"
             ],
             [
              0.3333333333333333,
              "#9c179e"
             ],
             [
              0.4444444444444444,
              "#bd3786"
             ],
             [
              0.5555555555555556,
              "#d8576b"
             ],
             [
              0.6666666666666666,
              "#ed7953"
             ],
             [
              0.7777777777777778,
              "#fb9f3a"
             ],
             [
              0.8888888888888888,
              "#fdca26"
             ],
             [
              1,
              "#f0f921"
             ]
            ],
            "type": "heatmap"
           }
          ],
          "heatmapgl": [
           {
            "colorbar": {
             "outlinewidth": 0,
             "ticks": ""
            },
            "colorscale": [
             [
              0,
              "#0d0887"
             ],
             [
              0.1111111111111111,
              "#46039f"
             ],
             [
              0.2222222222222222,
              "#7201a8"
             ],
             [
              0.3333333333333333,
              "#9c179e"
             ],
             [
              0.4444444444444444,
              "#bd3786"
             ],
             [
              0.5555555555555556,
              "#d8576b"
             ],
             [
              0.6666666666666666,
              "#ed7953"
             ],
             [
              0.7777777777777778,
              "#fb9f3a"
             ],
             [
              0.8888888888888888,
              "#fdca26"
             ],
             [
              1,
              "#f0f921"
             ]
            ],
            "type": "heatmapgl"
           }
          ],
          "histogram": [
           {
            "marker": {
             "colorbar": {
              "outlinewidth": 0,
              "ticks": ""
             }
            },
            "type": "histogram"
           }
          ],
          "histogram2d": [
           {
            "colorbar": {
             "outlinewidth": 0,
             "ticks": ""
            },
            "colorscale": [
             [
              0,
              "#0d0887"
             ],
             [
              0.1111111111111111,
              "#46039f"
             ],
             [
              0.2222222222222222,
              "#7201a8"
             ],
             [
              0.3333333333333333,
              "#9c179e"
             ],
             [
              0.4444444444444444,
              "#bd3786"
             ],
             [
              0.5555555555555556,
              "#d8576b"
             ],
             [
              0.6666666666666666,
              "#ed7953"
             ],
             [
              0.7777777777777778,
              "#fb9f3a"
             ],
             [
              0.8888888888888888,
              "#fdca26"
             ],
             [
              1,
              "#f0f921"
             ]
            ],
            "type": "histogram2d"
           }
          ],
          "histogram2dcontour": [
           {
            "colorbar": {
             "outlinewidth": 0,
             "ticks": ""
            },
            "colorscale": [
             [
              0,
              "#0d0887"
             ],
             [
              0.1111111111111111,
              "#46039f"
             ],
             [
              0.2222222222222222,
              "#7201a8"
             ],
             [
              0.3333333333333333,
              "#9c179e"
             ],
             [
              0.4444444444444444,
              "#bd3786"
             ],
             [
              0.5555555555555556,
              "#d8576b"
             ],
             [
              0.6666666666666666,
              "#ed7953"
             ],
             [
              0.7777777777777778,
              "#fb9f3a"
             ],
             [
              0.8888888888888888,
              "#fdca26"
             ],
             [
              1,
              "#f0f921"
             ]
            ],
            "type": "histogram2dcontour"
           }
          ],
          "mesh3d": [
           {
            "colorbar": {
             "outlinewidth": 0,
             "ticks": ""
            },
            "type": "mesh3d"
           }
          ],
          "parcoords": [
           {
            "line": {
             "colorbar": {
              "outlinewidth": 0,
              "ticks": ""
             }
            },
            "type": "parcoords"
           }
          ],
          "scatter": [
           {
            "marker": {
             "colorbar": {
              "outlinewidth": 0,
              "ticks": ""
             }
            },
            "type": "scatter"
           }
          ],
          "scatter3d": [
           {
            "line": {
             "colorbar": {
              "outlinewidth": 0,
              "ticks": ""
             }
            },
            "marker": {
             "colorbar": {
              "outlinewidth": 0,
              "ticks": ""
             }
            },
            "type": "scatter3d"
           }
          ],
          "scattercarpet": [
           {
            "marker": {
             "colorbar": {
              "outlinewidth": 0,
              "ticks": ""
             }
            },
            "type": "scattercarpet"
           }
          ],
          "scattergeo": [
           {
            "marker": {
             "colorbar": {
              "outlinewidth": 0,
              "ticks": ""
             }
            },
            "type": "scattergeo"
           }
          ],
          "scattergl": [
           {
            "marker": {
             "colorbar": {
              "outlinewidth": 0,
              "ticks": ""
             }
            },
            "type": "scattergl"
           }
          ],
          "scattermapbox": [
           {
            "marker": {
             "colorbar": {
              "outlinewidth": 0,
              "ticks": ""
             }
            },
            "type": "scattermapbox"
           }
          ],
          "scatterpolar": [
           {
            "marker": {
             "colorbar": {
              "outlinewidth": 0,
              "ticks": ""
             }
            },
            "type": "scatterpolar"
           }
          ],
          "scatterpolargl": [
           {
            "marker": {
             "colorbar": {
              "outlinewidth": 0,
              "ticks": ""
             }
            },
            "type": "scatterpolargl"
           }
          ],
          "scatterternary": [
           {
            "marker": {
             "colorbar": {
              "outlinewidth": 0,
              "ticks": ""
             }
            },
            "type": "scatterternary"
           }
          ],
          "surface": [
           {
            "colorbar": {
             "outlinewidth": 0,
             "ticks": ""
            },
            "colorscale": [
             [
              0,
              "#0d0887"
             ],
             [
              0.1111111111111111,
              "#46039f"
             ],
             [
              0.2222222222222222,
              "#7201a8"
             ],
             [
              0.3333333333333333,
              "#9c179e"
             ],
             [
              0.4444444444444444,
              "#bd3786"
             ],
             [
              0.5555555555555556,
              "#d8576b"
             ],
             [
              0.6666666666666666,
              "#ed7953"
             ],
             [
              0.7777777777777778,
              "#fb9f3a"
             ],
             [
              0.8888888888888888,
              "#fdca26"
             ],
             [
              1,
              "#f0f921"
             ]
            ],
            "type": "surface"
           }
          ],
          "table": [
           {
            "cells": {
             "fill": {
              "color": "#EBF0F8"
             },
             "line": {
              "color": "white"
             }
            },
            "header": {
             "fill": {
              "color": "#C8D4E3"
             },
             "line": {
              "color": "white"
             }
            },
            "type": "table"
           }
          ]
         },
         "layout": {
          "annotationdefaults": {
           "arrowcolor": "#2a3f5f",
           "arrowhead": 0,
           "arrowwidth": 1
          },
          "colorscale": {
           "diverging": [
            [
             0,
             "#8e0152"
            ],
            [
             0.1,
             "#c51b7d"
            ],
            [
             0.2,
             "#de77ae"
            ],
            [
             0.3,
             "#f1b6da"
            ],
            [
             0.4,
             "#fde0ef"
            ],
            [
             0.5,
             "#f7f7f7"
            ],
            [
             0.6,
             "#e6f5d0"
            ],
            [
             0.7,
             "#b8e186"
            ],
            [
             0.8,
             "#7fbc41"
            ],
            [
             0.9,
             "#4d9221"
            ],
            [
             1,
             "#276419"
            ]
           ],
           "sequential": [
            [
             0,
             "#0d0887"
            ],
            [
             0.1111111111111111,
             "#46039f"
            ],
            [
             0.2222222222222222,
             "#7201a8"
            ],
            [
             0.3333333333333333,
             "#9c179e"
            ],
            [
             0.4444444444444444,
             "#bd3786"
            ],
            [
             0.5555555555555556,
             "#d8576b"
            ],
            [
             0.6666666666666666,
             "#ed7953"
            ],
            [
             0.7777777777777778,
             "#fb9f3a"
            ],
            [
             0.8888888888888888,
             "#fdca26"
            ],
            [
             1,
             "#f0f921"
            ]
           ],
           "sequentialminus": [
            [
             0,
             "#0d0887"
            ],
            [
             0.1111111111111111,
             "#46039f"
            ],
            [
             0.2222222222222222,
             "#7201a8"
            ],
            [
             0.3333333333333333,
             "#9c179e"
            ],
            [
             0.4444444444444444,
             "#bd3786"
            ],
            [
             0.5555555555555556,
             "#d8576b"
            ],
            [
             0.6666666666666666,
             "#ed7953"
            ],
            [
             0.7777777777777778,
             "#fb9f3a"
            ],
            [
             0.8888888888888888,
             "#fdca26"
            ],
            [
             1,
             "#f0f921"
            ]
           ]
          },
          "colorway": [
           "#636efa",
           "#EF553B",
           "#00cc96",
           "#ab63fa",
           "#FFA15A",
           "#19d3f3",
           "#FF6692",
           "#B6E880",
           "#FF97FF",
           "#FECB52"
          ],
          "font": {
           "color": "#2a3f5f"
          },
          "geo": {
           "bgcolor": "white",
           "lakecolor": "white",
           "landcolor": "#E5ECF6",
           "showlakes": true,
           "showland": true,
           "subunitcolor": "white"
          },
          "hoverlabel": {
           "align": "left"
          },
          "hovermode": "closest",
          "mapbox": {
           "style": "light"
          },
          "paper_bgcolor": "white",
          "plot_bgcolor": "#E5ECF6",
          "polar": {
           "angularaxis": {
            "gridcolor": "white",
            "linecolor": "white",
            "ticks": ""
           },
           "bgcolor": "#E5ECF6",
           "radialaxis": {
            "gridcolor": "white",
            "linecolor": "white",
            "ticks": ""
           }
          },
          "scene": {
           "xaxis": {
            "backgroundcolor": "#E5ECF6",
            "gridcolor": "white",
            "gridwidth": 2,
            "linecolor": "white",
            "showbackground": true,
            "ticks": "",
            "zerolinecolor": "white"
           },
           "yaxis": {
            "backgroundcolor": "#E5ECF6",
            "gridcolor": "white",
            "gridwidth": 2,
            "linecolor": "white",
            "showbackground": true,
            "ticks": "",
            "zerolinecolor": "white"
           },
           "zaxis": {
            "backgroundcolor": "#E5ECF6",
            "gridcolor": "white",
            "gridwidth": 2,
            "linecolor": "white",
            "showbackground": true,
            "ticks": "",
            "zerolinecolor": "white"
           }
          },
          "shapedefaults": {
           "line": {
            "color": "#2a3f5f"
           }
          },
          "ternary": {
           "aaxis": {
            "gridcolor": "white",
            "linecolor": "white",
            "ticks": ""
           },
           "baxis": {
            "gridcolor": "white",
            "linecolor": "white",
            "ticks": ""
           },
           "bgcolor": "#E5ECF6",
           "caxis": {
            "gridcolor": "white",
            "linecolor": "white",
            "ticks": ""
           }
          },
          "title": {
           "x": 0.05
          },
          "xaxis": {
           "automargin": true,
           "gridcolor": "white",
           "linecolor": "white",
           "ticks": "",
           "zerolinecolor": "white",
           "zerolinewidth": 2
          },
          "yaxis": {
           "automargin": true,
           "gridcolor": "white",
           "linecolor": "white",
           "ticks": "",
           "zerolinecolor": "white",
           "zerolinewidth": 2
          }
         }
        }
       }
      },
      "text/html": [
       "<div>\n",
       "        \n",
       "        \n",
       "            <div id=\"663fa244-337f-4c1d-8dd3-a31ab42971dc\" class=\"plotly-graph-div\" style=\"height:525px; width:100%;\"></div>\n",
       "            <script type=\"text/javascript\">\n",
       "                require([\"plotly\"], function(Plotly) {\n",
       "                    window.PLOTLYENV=window.PLOTLYENV || {};\n",
       "                    \n",
       "                if (document.getElementById(\"663fa244-337f-4c1d-8dd3-a31ab42971dc\")) {\n",
       "                    Plotly.newPlot(\n",
       "                        '663fa244-337f-4c1d-8dd3-a31ab42971dc',\n",
       "                        [{\"hovertext\": [\"Travis Scott\", \"Martin Garrix\", \"Los Fabulosos Cadillacs\", \"Brockhampton\", \"DUKI\", \"Madeon\", \"Rita Ora\", \"A Day to Remember\", \"King Princess\", \"LP\", \"WOS\", \"Denzel Curry\", \"Yungblud\", \"Nathy Peluso\", \"J mena\", \"AJR\", \"Louta\", \"Two Feet\", \"Bizarrap\", \"Fuego\", \"La Delio Valdez\", \"Dani\", \"Kaydy Cain\", \"Maye\", \"Boombox Cartel\", \"Cimafunk\", \"Ms Nina\", \"Feli Colina\", \"Axel Fiks\", \"Lucia Tacchetti\", \"DJ Sky\", \"Alejo y Valentin\", \"The Strokes\", \"Gwen Stefani\", \"Armin Van Buuren\", \"Vampire Weekend\", \"Ratones Paranoicos\", \"ILLENIUM\", \"Kacey Musgraves\", \"Litto Nebbia\", \"Charli XCX\", \"Jaden Smith\", \"R3HAB\", \"Hayley Kiyoko\", \"El Mat\\u00f3 a un Polic\\u00eda Motorizado\", \"Rels B\", \"Emmanuel Horvilleur\", \"Kali Uchis\", \"Paloma Mami\", \"Fabiana Cantilo\", \"Trueno\", \"Amaia\", \"Wallows\", \"Yung Beef\", \"Zoe Gotusso\", \"Girl Ultra\", \"Las Ligas Menores\", \"Ainda\", \"Ghetto Kids\", \"D3FAI\", \"Paco Leiva\", \"LIMON\", \"Louly\", \"Guns N\\u2019 Roses\", \"Lana del Rey\", \"Cage the Elephant\", \"James Blake\", \"Alan Walker\", \"Rezz\", \"The Lumineers\", \"Rex Orange County\", \"MIKA\", \"Perry Farrell\\u2019s Kind Heaven Orchestra\", \"Airbag\", \"Lauv\", \"YSY A\", \"Chris Lake\", \"Pabllo Vittar\", \"San Holo\", \"Emilia\", \"Idles\", \"Masego\", \"The Hu\", \"Elsa y Elmar\", \"Natalie Perez\", \"Goldfish\", \"Florian\", \"Miranda Johansen\", \"DABOW\", \"El Buen Salvaje\", \"Reydel\"], \"marker\": {\"color\": [0, 1, 2, 0, 3, 1, 4, -1, 4, 5, 3, 0, 5, 6, 7, 5, 2, 5, 3, 6, 2, 3, 6, 5, 1, 6, 6, 2, 2, 2, -1, 2, 5, 4, 1, 5, 2, 1, 4, 2, 4, 0, 1, 4, 2, 6, 2, 4, 6, 2, 3, 7, 5, 6, 2, -1, 2, 2, 6, 1, 2, 2, 3, 5, 4, 5, 4, 1, 1, 5, 5, 4, 5, 2, 4, 3, 1, -1, 1, 7, 5, 4, 5, -1, 7, 1, 2, 2, 1, 2, 7]}, \"mode\": \"markers\", \"type\": \"scatter\", \"x\": [-26.09530258178711, 4.2302985191345215, 28.717613220214844, -20.54134750366211, 7.406829357147217, 9.163633346557617, -42.30656051635742, -73.71353149414062, -35.53357696533203, -38.525535583496094, 19.82601547241211, -15.127677917480469, -31.08820343017578, 3.5300090312957764, 43.35059356689453, -30.10049819946289, 48.27371597290039, -30.48189926147461, 11.858302116394043, 5.772931098937988, 38.398502349853516, 10.344661712646484, 4.178023338317871, -15.110124588012695, 12.841513633728027, 12.715874671936035, -0.367030531167984, 65.66419219970703, 59.69518280029297, 71.25727081298828, 22.690547943115234, 54.969886779785156, -18.570934295654297, -40.22686767578125, 1.2150421142578125, -21.041629791259766, 31.38802719116211, 22.676923751831055, -47.64449691772461, 33.910518646240234, -25.21038818359375, -20.481428146362305, 8.85729694366455, -30.354286193847656, 45.86626052856445, 9.411805152893066, 38.85991287231445, -17.805614471435547, 17.377578735351562, 28.177997589111328, 16.81510353088379, 38.75508117675781, -22.257217407226562, 8.83171558380127, 57.177555084228516, 25.839553833007812, 47.67245864868164, 63.26509475708008, 3.4167580604553223, 10.393991470336914, 70.72863006591797, 62.078086853027344, 4.725201606750488, -15.546372413635254, -30.864444732666016, -23.304786682128906, -14.29041862487793, -1.0805679559707642, 14.871166229248047, -41.17788314819336, -20.668243408203125, -35.12921905517578, -20.70649528503418, 24.35028839111328, -38.7151985168457, 14.096174240112305, 15.87143325805664, 18.625946044921875, 18.84572982788086, 43.30181884765625, -13.47822380065918, -13.936001777648926, -9.90924072265625, 29.746694564819336, 49.214412689208984, -2.5570263862609863, 55.32086944580078, 54.81304931640625, 12.688457489013672, 65.03437042236328, 49.788795471191406], \"y\": [-28.283035278320312, 21.08416175842285, 0.04698287695646286, -32.44731521606445, -40.51933670043945, 31.264591217041016, -6.939603805541992, 28.080068588256836, 5.346390724182129, 18.558521270751953, -43.33729553222656, -29.681203842163086, 31.11890411376953, -17.340120315551758, -20.209333419799805, 18.466459274291992, 5.16770601272583, 25.546005249023438, -45.55282211303711, -3.4067437648773193, 2.9200057983398438, -52.25432586669922, -25.949922561645508, 11.044147491455078, 39.069114685058594, -1.1605010032653809, -21.0761775970459, 7.121636867523193, 6.448993682861328, 12.246772766113281, -25.17194938659668, 18.939912796020508, 33.859432220458984, -12.74225902557373, 28.52889633178711, 25.72783660888672, 7.002420425415039, 35.740718841552734, 0.8809230327606201, 14.923091888427734, -3.796485185623169, -26.549270629882812, 20.494461059570312, 3.6988162994384766, 11.523780822753906, -16.506967544555664, 9.685466766357422, -9.524999618530273, -4.237820148468018, 12.104045867919922, -49.68603515625, -30.597814559936523, 15.38769245147705, -23.04978370666504, -3.832843065261841, -12.416722297668457, -1.3168842792510986, 0.19407518208026886, -8.821300506591797, 13.556204795837402, 2.2792859077453613, 13.3809232711792, -47.26762008666992, 45.19742965698242, -2.873292922973633, 32.48824691772461, -3.133396863937378, 15.630596160888672, 33.06717300415039, 22.89352798461914, 9.838101387023926, -10.050374984741211, 41.814266204833984, 6.68711519241333, -0.986531674861908, -39.42280197143555, 25.102092742919922, 75.76761627197266, 40.062198638916016, -25.685211181640625, 26.36749839782715, -12.671738624572754, 48.65021896362305, -10.256239891052246, -19.123533248901367, 8.661608695983887, 2.3301098346710205, 10.7506685256958, 46.00143814086914, -9.870115280151367, -12.619864463806152]}],\n",
       "                        {\"template\": {\"data\": {\"bar\": [{\"error_x\": {\"color\": \"#2a3f5f\"}, \"error_y\": {\"color\": \"#2a3f5f\"}, \"marker\": {\"line\": {\"color\": \"#E5ECF6\", \"width\": 0.5}}, \"type\": \"bar\"}], \"barpolar\": [{\"marker\": {\"line\": {\"color\": \"#E5ECF6\", \"width\": 0.5}}, \"type\": \"barpolar\"}], \"carpet\": [{\"aaxis\": {\"endlinecolor\": \"#2a3f5f\", \"gridcolor\": \"white\", \"linecolor\": \"white\", \"minorgridcolor\": \"white\", \"startlinecolor\": \"#2a3f5f\"}, \"baxis\": {\"endlinecolor\": \"#2a3f5f\", \"gridcolor\": \"white\", \"linecolor\": \"white\", \"minorgridcolor\": \"white\", \"startlinecolor\": \"#2a3f5f\"}, \"type\": \"carpet\"}], \"choropleth\": [{\"colorbar\": {\"outlinewidth\": 0, \"ticks\": \"\"}, \"type\": \"choropleth\"}], \"contour\": [{\"colorbar\": {\"outlinewidth\": 0, \"ticks\": \"\"}, \"colorscale\": [[0.0, \"#0d0887\"], [0.1111111111111111, \"#46039f\"], [0.2222222222222222, \"#7201a8\"], [0.3333333333333333, \"#9c179e\"], [0.4444444444444444, \"#bd3786\"], [0.5555555555555556, \"#d8576b\"], [0.6666666666666666, \"#ed7953\"], [0.7777777777777778, \"#fb9f3a\"], [0.8888888888888888, \"#fdca26\"], [1.0, \"#f0f921\"]], \"type\": \"contour\"}], \"contourcarpet\": [{\"colorbar\": {\"outlinewidth\": 0, \"ticks\": \"\"}, \"type\": \"contourcarpet\"}], \"heatmap\": [{\"colorbar\": {\"outlinewidth\": 0, \"ticks\": \"\"}, \"colorscale\": [[0.0, \"#0d0887\"], [0.1111111111111111, \"#46039f\"], [0.2222222222222222, \"#7201a8\"], [0.3333333333333333, \"#9c179e\"], [0.4444444444444444, \"#bd3786\"], [0.5555555555555556, \"#d8576b\"], [0.6666666666666666, \"#ed7953\"], [0.7777777777777778, \"#fb9f3a\"], [0.8888888888888888, \"#fdca26\"], [1.0, \"#f0f921\"]], \"type\": \"heatmap\"}], \"heatmapgl\": [{\"colorbar\": {\"outlinewidth\": 0, \"ticks\": \"\"}, \"colorscale\": [[0.0, \"#0d0887\"], [0.1111111111111111, \"#46039f\"], [0.2222222222222222, \"#7201a8\"], [0.3333333333333333, \"#9c179e\"], [0.4444444444444444, \"#bd3786\"], [0.5555555555555556, \"#d8576b\"], [0.6666666666666666, \"#ed7953\"], [0.7777777777777778, \"#fb9f3a\"], [0.8888888888888888, \"#fdca26\"], [1.0, \"#f0f921\"]], \"type\": \"heatmapgl\"}], \"histogram\": [{\"marker\": {\"colorbar\": {\"outlinewidth\": 0, \"ticks\": \"\"}}, \"type\": \"histogram\"}], \"histogram2d\": [{\"colorbar\": {\"outlinewidth\": 0, \"ticks\": \"\"}, \"colorscale\": [[0.0, \"#0d0887\"], [0.1111111111111111, \"#46039f\"], [0.2222222222222222, \"#7201a8\"], [0.3333333333333333, \"#9c179e\"], [0.4444444444444444, \"#bd3786\"], [0.5555555555555556, \"#d8576b\"], [0.6666666666666666, \"#ed7953\"], [0.7777777777777778, \"#fb9f3a\"], [0.8888888888888888, \"#fdca26\"], [1.0, \"#f0f921\"]], \"type\": \"histogram2d\"}], \"histogram2dcontour\": [{\"colorbar\": {\"outlinewidth\": 0, \"ticks\": \"\"}, \"colorscale\": [[0.0, \"#0d0887\"], [0.1111111111111111, \"#46039f\"], [0.2222222222222222, \"#7201a8\"], [0.3333333333333333, \"#9c179e\"], [0.4444444444444444, \"#bd3786\"], [0.5555555555555556, \"#d8576b\"], [0.6666666666666666, \"#ed7953\"], [0.7777777777777778, \"#fb9f3a\"], [0.8888888888888888, \"#fdca26\"], [1.0, \"#f0f921\"]], \"type\": \"histogram2dcontour\"}], \"mesh3d\": [{\"colorbar\": {\"outlinewidth\": 0, \"ticks\": \"\"}, \"type\": \"mesh3d\"}], \"parcoords\": [{\"line\": {\"colorbar\": {\"outlinewidth\": 0, \"ticks\": \"\"}}, \"type\": \"parcoords\"}], \"scatter\": [{\"marker\": {\"colorbar\": {\"outlinewidth\": 0, \"ticks\": \"\"}}, \"type\": \"scatter\"}], \"scatter3d\": [{\"line\": {\"colorbar\": {\"outlinewidth\": 0, \"ticks\": \"\"}}, \"marker\": {\"colorbar\": {\"outlinewidth\": 0, \"ticks\": \"\"}}, \"type\": \"scatter3d\"}], \"scattercarpet\": [{\"marker\": {\"colorbar\": {\"outlinewidth\": 0, \"ticks\": \"\"}}, \"type\": \"scattercarpet\"}], \"scattergeo\": [{\"marker\": {\"colorbar\": {\"outlinewidth\": 0, \"ticks\": \"\"}}, \"type\": \"scattergeo\"}], \"scattergl\": [{\"marker\": {\"colorbar\": {\"outlinewidth\": 0, \"ticks\": \"\"}}, \"type\": \"scattergl\"}], \"scattermapbox\": [{\"marker\": {\"colorbar\": {\"outlinewidth\": 0, \"ticks\": \"\"}}, \"type\": \"scattermapbox\"}], \"scatterpolar\": [{\"marker\": {\"colorbar\": {\"outlinewidth\": 0, \"ticks\": \"\"}}, \"type\": \"scatterpolar\"}], \"scatterpolargl\": [{\"marker\": {\"colorbar\": {\"outlinewidth\": 0, \"ticks\": \"\"}}, \"type\": \"scatterpolargl\"}], \"scatterternary\": [{\"marker\": {\"colorbar\": {\"outlinewidth\": 0, \"ticks\": \"\"}}, \"type\": \"scatterternary\"}], \"surface\": [{\"colorbar\": {\"outlinewidth\": 0, \"ticks\": \"\"}, \"colorscale\": [[0.0, \"#0d0887\"], [0.1111111111111111, \"#46039f\"], [0.2222222222222222, \"#7201a8\"], [0.3333333333333333, \"#9c179e\"], [0.4444444444444444, \"#bd3786\"], [0.5555555555555556, \"#d8576b\"], [0.6666666666666666, \"#ed7953\"], [0.7777777777777778, \"#fb9f3a\"], [0.8888888888888888, \"#fdca26\"], [1.0, \"#f0f921\"]], \"type\": \"surface\"}], \"table\": [{\"cells\": {\"fill\": {\"color\": \"#EBF0F8\"}, \"line\": {\"color\": \"white\"}}, \"header\": {\"fill\": {\"color\": \"#C8D4E3\"}, \"line\": {\"color\": \"white\"}}, \"type\": \"table\"}]}, \"layout\": {\"annotationdefaults\": {\"arrowcolor\": \"#2a3f5f\", \"arrowhead\": 0, \"arrowwidth\": 1}, \"colorscale\": {\"diverging\": [[0, \"#8e0152\"], [0.1, \"#c51b7d\"], [0.2, \"#de77ae\"], [0.3, \"#f1b6da\"], [0.4, \"#fde0ef\"], [0.5, \"#f7f7f7\"], [0.6, \"#e6f5d0\"], [0.7, \"#b8e186\"], [0.8, \"#7fbc41\"], [0.9, \"#4d9221\"], [1, \"#276419\"]], \"sequential\": [[0.0, \"#0d0887\"], [0.1111111111111111, \"#46039f\"], [0.2222222222222222, \"#7201a8\"], [0.3333333333333333, \"#9c179e\"], [0.4444444444444444, \"#bd3786\"], [0.5555555555555556, \"#d8576b\"], [0.6666666666666666, \"#ed7953\"], [0.7777777777777778, \"#fb9f3a\"], [0.8888888888888888, \"#fdca26\"], [1.0, \"#f0f921\"]], \"sequentialminus\": [[0.0, \"#0d0887\"], [0.1111111111111111, \"#46039f\"], [0.2222222222222222, \"#7201a8\"], [0.3333333333333333, \"#9c179e\"], [0.4444444444444444, \"#bd3786\"], [0.5555555555555556, \"#d8576b\"], [0.6666666666666666, \"#ed7953\"], [0.7777777777777778, \"#fb9f3a\"], [0.8888888888888888, \"#fdca26\"], [1.0, \"#f0f921\"]]}, \"colorway\": [\"#636efa\", \"#EF553B\", \"#00cc96\", \"#ab63fa\", \"#FFA15A\", \"#19d3f3\", \"#FF6692\", \"#B6E880\", \"#FF97FF\", \"#FECB52\"], \"font\": {\"color\": \"#2a3f5f\"}, \"geo\": {\"bgcolor\": \"white\", \"lakecolor\": \"white\", \"landcolor\": \"#E5ECF6\", \"showlakes\": true, \"showland\": true, \"subunitcolor\": \"white\"}, \"hoverlabel\": {\"align\": \"left\"}, \"hovermode\": \"closest\", \"mapbox\": {\"style\": \"light\"}, \"paper_bgcolor\": \"white\", \"plot_bgcolor\": \"#E5ECF6\", \"polar\": {\"angularaxis\": {\"gridcolor\": \"white\", \"linecolor\": \"white\", \"ticks\": \"\"}, \"bgcolor\": \"#E5ECF6\", \"radialaxis\": {\"gridcolor\": \"white\", \"linecolor\": \"white\", \"ticks\": \"\"}}, \"scene\": {\"xaxis\": {\"backgroundcolor\": \"#E5ECF6\", \"gridcolor\": \"white\", \"gridwidth\": 2, \"linecolor\": \"white\", \"showbackground\": true, \"ticks\": \"\", \"zerolinecolor\": \"white\"}, \"yaxis\": {\"backgroundcolor\": \"#E5ECF6\", \"gridcolor\": \"white\", \"gridwidth\": 2, \"linecolor\": \"white\", \"showbackground\": true, \"ticks\": \"\", \"zerolinecolor\": \"white\"}, \"zaxis\": {\"backgroundcolor\": \"#E5ECF6\", \"gridcolor\": \"white\", \"gridwidth\": 2, \"linecolor\": \"white\", \"showbackground\": true, \"ticks\": \"\", \"zerolinecolor\": \"white\"}}, \"shapedefaults\": {\"line\": {\"color\": \"#2a3f5f\"}}, \"ternary\": {\"aaxis\": {\"gridcolor\": \"white\", \"linecolor\": \"white\", \"ticks\": \"\"}, \"baxis\": {\"gridcolor\": \"white\", \"linecolor\": \"white\", \"ticks\": \"\"}, \"bgcolor\": \"#E5ECF6\", \"caxis\": {\"gridcolor\": \"white\", \"linecolor\": \"white\", \"ticks\": \"\"}}, \"title\": {\"x\": 0.05}, \"xaxis\": {\"automargin\": true, \"gridcolor\": \"white\", \"linecolor\": \"white\", \"ticks\": \"\", \"zerolinecolor\": \"white\", \"zerolinewidth\": 2}, \"yaxis\": {\"automargin\": true, \"gridcolor\": \"white\", \"linecolor\": \"white\", \"ticks\": \"\", \"zerolinecolor\": \"white\", \"zerolinewidth\": 2}}}},\n",
       "                        {\"responsive\": true}\n",
       "                    ).then(function(){\n",
       "                            \n",
       "var gd = document.getElementById('663fa244-337f-4c1d-8dd3-a31ab42971dc');\n",
       "var x = new MutationObserver(function (mutations, observer) {{\n",
       "        var display = window.getComputedStyle(gd).display;\n",
       "        if (!display || display === 'none') {{\n",
       "            console.log([gd, 'removed!']);\n",
       "            Plotly.purge(gd);\n",
       "            observer.disconnect();\n",
       "        }}\n",
       "}});\n",
       "\n",
       "// Listen for the removal of the full notebook cells\n",
       "var notebookContainer = gd.closest('#notebook-container');\n",
       "if (notebookContainer) {{\n",
       "    x.observe(notebookContainer, {childList: true});\n",
       "}}\n",
       "\n",
       "// Listen for the clearing of the current output cell\n",
       "var outputEl = gd.closest('.output');\n",
       "if (outputEl) {{\n",
       "    x.observe(outputEl, {childList: true});\n",
       "}}\n",
       "\n",
       "                        })\n",
       "                };\n",
       "                });\n",
       "            </script>\n",
       "        </div>"
      ]
     },
     "metadata": {},
     "output_type": "display_data"
    }
   ],
   "source": [
    "data = go.Scatter(x=tsne_plot[:,0], y=tsne_plot[:,1], \n",
    "                  mode='markers', \n",
    "                  marker=dict(color=dbscan.labels_),\n",
    "                  hovertext=df_artists.index)\n",
    "fig = go.Figure(data=data)\n",
    "fig.show()"
   ]
  },
  {
   "cell_type": "code",
   "execution_count": null,
   "metadata": {},
   "outputs": [],
   "source": []
  }
 ],
 "metadata": {
  "kernelspec": {
   "display_name": "ds-dh",
   "language": "python",
   "name": "ds-dh"
  },
  "language_info": {
   "codemirror_mode": {
    "name": "ipython",
    "version": 3
   },
   "file_extension": ".py",
   "mimetype": "text/x-python",
   "name": "python",
   "nbconvert_exporter": "python",
   "pygments_lexer": "ipython3",
   "version": "3.6.8"
  }
 },
 "nbformat": 4,
 "nbformat_minor": 4
}
